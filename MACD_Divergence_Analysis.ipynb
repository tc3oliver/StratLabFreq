{
  "nbformat": 4,
  "nbformat_minor": 0,
  "metadata": {
    "colab": {
      "provenance": [],
      "mount_file_id": "1BwpTyyXZPpBCCERuGr5e48hit9cd_LkX",
      "authorship_tag": "ABX9TyPJ9xuRuQJf+UB4TsN6qhhT",
      "include_colab_link": true
    },
    "kernelspec": {
      "name": "python3",
      "display_name": "Python 3"
    },
    "language_info": {
      "name": "python"
    }
  },
  "cells": [
    {
      "cell_type": "markdown",
      "metadata": {
        "id": "view-in-github",
        "colab_type": "text"
      },
      "source": [
        "<a href=\"https://colab.research.google.com/github/tc3oliver/StratLabFreq/blob/dev/MACD_Divergence_Analysis.ipynb\" target=\"_parent\"><img src=\"https://colab.research.google.com/assets/colab-badge.svg\" alt=\"Open In Colab\"/></a>"
      ]
    },
    {
      "cell_type": "code",
      "execution_count": 5,
      "metadata": {
        "colab": {
          "base_uri": "https://localhost:8080/"
        },
        "id": "21lKqjEEaXAB",
        "outputId": "66930b3a-edeb-462b-ed37-526a9aeb09a0"
      },
      "outputs": [
        {
          "output_type": "execute_result",
          "data": {
            "text/plain": [
              "['MACD_Divergence_Analysis.ipynb', 'data', 'TaipeiSansTCBeta-Regular.ttf']"
            ]
          },
          "metadata": {},
          "execution_count": 5
        }
      ],
      "source": [
        "import os\n",
        "os.chdir('/content/drive/MyDrive/Colab Notebooks/StratLabFreq')\n",
        "os.listdir()"
      ]
    },
    {
      "cell_type": "code",
      "source": [
        "import pandas as pd"
      ],
      "metadata": {
        "id": "4tTbsldbbrCt"
      },
      "execution_count": 6,
      "outputs": []
    },
    {
      "cell_type": "code",
      "source": [
        "dataframe = pd.read_json('./data/BTC_USDT-5m.json')\n",
        "dataframe.columns=['date', 'open' , 'high', 'low', 'close', 'volume' ]\n",
        "dataframe['date']=(pd.to_datetime(dataframe['date'],unit='ms'))\n",
        "dataframe"
      ],
      "metadata": {
        "colab": {
          "base_uri": "https://localhost:8080/",
          "height": 423
        },
        "id": "W1mxpPXbcJHC",
        "outputId": "4a720863-0aca-4229-d356-0f1f767b44d8"
      },
      "execution_count": 7,
      "outputs": [
        {
          "output_type": "execute_result",
          "data": {
            "text/plain": [
              "                      date      open      high       low     close      volume\n",
              "0      2017-08-17 04:00:00   4261.48   4280.56   4261.48   4261.48    2.189061\n",
              "1      2017-08-17 04:05:00   4261.48   4261.48   4261.48   4261.48    0.000000\n",
              "2      2017-08-17 04:10:00   4261.48   4261.48   4261.48   4261.48    0.000000\n",
              "3      2017-08-17 04:15:00   4261.48   4264.88   4261.48   4261.48    0.484666\n",
              "4      2017-08-17 04:20:00   4264.88   4266.29   4264.88   4266.29    2.328570\n",
              "...                    ...       ...       ...       ...       ...         ...\n",
              "617219 2023-07-06 05:50:00  30549.80  30569.99  30549.80  30563.11  105.865190\n",
              "617220 2023-07-06 05:55:00  30563.11  30593.64  30563.11  30582.51   71.446400\n",
              "617221 2023-07-06 06:00:00  30582.50  30599.30  30573.33  30575.48   88.509370\n",
              "617222 2023-07-06 06:05:00  30575.48  30575.48  30560.00  30570.04   58.483620\n",
              "617223 2023-07-06 06:10:00  30570.03  30570.04  30561.50  30565.59   47.813710\n",
              "\n",
              "[617224 rows x 6 columns]"
            ],
            "text/html": [
              "\n",
              "\n",
              "  <div id=\"df-bf3b9dde-6079-4737-af86-cddd7dae8eb4\">\n",
              "    <div class=\"colab-df-container\">\n",
              "      <div>\n",
              "<style scoped>\n",
              "    .dataframe tbody tr th:only-of-type {\n",
              "        vertical-align: middle;\n",
              "    }\n",
              "\n",
              "    .dataframe tbody tr th {\n",
              "        vertical-align: top;\n",
              "    }\n",
              "\n",
              "    .dataframe thead th {\n",
              "        text-align: right;\n",
              "    }\n",
              "</style>\n",
              "<table border=\"1\" class=\"dataframe\">\n",
              "  <thead>\n",
              "    <tr style=\"text-align: right;\">\n",
              "      <th></th>\n",
              "      <th>date</th>\n",
              "      <th>open</th>\n",
              "      <th>high</th>\n",
              "      <th>low</th>\n",
              "      <th>close</th>\n",
              "      <th>volume</th>\n",
              "    </tr>\n",
              "  </thead>\n",
              "  <tbody>\n",
              "    <tr>\n",
              "      <th>0</th>\n",
              "      <td>2017-08-17 04:00:00</td>\n",
              "      <td>4261.48</td>\n",
              "      <td>4280.56</td>\n",
              "      <td>4261.48</td>\n",
              "      <td>4261.48</td>\n",
              "      <td>2.189061</td>\n",
              "    </tr>\n",
              "    <tr>\n",
              "      <th>1</th>\n",
              "      <td>2017-08-17 04:05:00</td>\n",
              "      <td>4261.48</td>\n",
              "      <td>4261.48</td>\n",
              "      <td>4261.48</td>\n",
              "      <td>4261.48</td>\n",
              "      <td>0.000000</td>\n",
              "    </tr>\n",
              "    <tr>\n",
              "      <th>2</th>\n",
              "      <td>2017-08-17 04:10:00</td>\n",
              "      <td>4261.48</td>\n",
              "      <td>4261.48</td>\n",
              "      <td>4261.48</td>\n",
              "      <td>4261.48</td>\n",
              "      <td>0.000000</td>\n",
              "    </tr>\n",
              "    <tr>\n",
              "      <th>3</th>\n",
              "      <td>2017-08-17 04:15:00</td>\n",
              "      <td>4261.48</td>\n",
              "      <td>4264.88</td>\n",
              "      <td>4261.48</td>\n",
              "      <td>4261.48</td>\n",
              "      <td>0.484666</td>\n",
              "    </tr>\n",
              "    <tr>\n",
              "      <th>4</th>\n",
              "      <td>2017-08-17 04:20:00</td>\n",
              "      <td>4264.88</td>\n",
              "      <td>4266.29</td>\n",
              "      <td>4264.88</td>\n",
              "      <td>4266.29</td>\n",
              "      <td>2.328570</td>\n",
              "    </tr>\n",
              "    <tr>\n",
              "      <th>...</th>\n",
              "      <td>...</td>\n",
              "      <td>...</td>\n",
              "      <td>...</td>\n",
              "      <td>...</td>\n",
              "      <td>...</td>\n",
              "      <td>...</td>\n",
              "    </tr>\n",
              "    <tr>\n",
              "      <th>617219</th>\n",
              "      <td>2023-07-06 05:50:00</td>\n",
              "      <td>30549.80</td>\n",
              "      <td>30569.99</td>\n",
              "      <td>30549.80</td>\n",
              "      <td>30563.11</td>\n",
              "      <td>105.865190</td>\n",
              "    </tr>\n",
              "    <tr>\n",
              "      <th>617220</th>\n",
              "      <td>2023-07-06 05:55:00</td>\n",
              "      <td>30563.11</td>\n",
              "      <td>30593.64</td>\n",
              "      <td>30563.11</td>\n",
              "      <td>30582.51</td>\n",
              "      <td>71.446400</td>\n",
              "    </tr>\n",
              "    <tr>\n",
              "      <th>617221</th>\n",
              "      <td>2023-07-06 06:00:00</td>\n",
              "      <td>30582.50</td>\n",
              "      <td>30599.30</td>\n",
              "      <td>30573.33</td>\n",
              "      <td>30575.48</td>\n",
              "      <td>88.509370</td>\n",
              "    </tr>\n",
              "    <tr>\n",
              "      <th>617222</th>\n",
              "      <td>2023-07-06 06:05:00</td>\n",
              "      <td>30575.48</td>\n",
              "      <td>30575.48</td>\n",
              "      <td>30560.00</td>\n",
              "      <td>30570.04</td>\n",
              "      <td>58.483620</td>\n",
              "    </tr>\n",
              "    <tr>\n",
              "      <th>617223</th>\n",
              "      <td>2023-07-06 06:10:00</td>\n",
              "      <td>30570.03</td>\n",
              "      <td>30570.04</td>\n",
              "      <td>30561.50</td>\n",
              "      <td>30565.59</td>\n",
              "      <td>47.813710</td>\n",
              "    </tr>\n",
              "  </tbody>\n",
              "</table>\n",
              "<p>617224 rows × 6 columns</p>\n",
              "</div>\n",
              "      <button class=\"colab-df-convert\" onclick=\"convertToInteractive('df-bf3b9dde-6079-4737-af86-cddd7dae8eb4')\"\n",
              "              title=\"Convert this dataframe to an interactive table.\"\n",
              "              style=\"display:none;\">\n",
              "\n",
              "  <svg xmlns=\"http://www.w3.org/2000/svg\" height=\"24px\"viewBox=\"0 0 24 24\"\n",
              "       width=\"24px\">\n",
              "    <path d=\"M0 0h24v24H0V0z\" fill=\"none\"/>\n",
              "    <path d=\"M18.56 5.44l.94 2.06.94-2.06 2.06-.94-2.06-.94-.94-2.06-.94 2.06-2.06.94zm-11 1L8.5 8.5l.94-2.06 2.06-.94-2.06-.94L8.5 2.5l-.94 2.06-2.06.94zm10 10l.94 2.06.94-2.06 2.06-.94-2.06-.94-.94-2.06-.94 2.06-2.06.94z\"/><path d=\"M17.41 7.96l-1.37-1.37c-.4-.4-.92-.59-1.43-.59-.52 0-1.04.2-1.43.59L10.3 9.45l-7.72 7.72c-.78.78-.78 2.05 0 2.83L4 21.41c.39.39.9.59 1.41.59.51 0 1.02-.2 1.41-.59l7.78-7.78 2.81-2.81c.8-.78.8-2.07 0-2.86zM5.41 20L4 18.59l7.72-7.72 1.47 1.35L5.41 20z\"/>\n",
              "  </svg>\n",
              "      </button>\n",
              "\n",
              "\n",
              "\n",
              "    <div id=\"df-822896df-353c-4397-bfff-710418eadc3d\">\n",
              "      <button class=\"colab-df-quickchart\" onclick=\"quickchart('df-822896df-353c-4397-bfff-710418eadc3d')\"\n",
              "              title=\"Suggest charts.\"\n",
              "              style=\"display:none;\">\n",
              "\n",
              "<svg xmlns=\"http://www.w3.org/2000/svg\" height=\"24px\"viewBox=\"0 0 24 24\"\n",
              "     width=\"24px\">\n",
              "    <g>\n",
              "        <path d=\"M19 3H5c-1.1 0-2 .9-2 2v14c0 1.1.9 2 2 2h14c1.1 0 2-.9 2-2V5c0-1.1-.9-2-2-2zM9 17H7v-7h2v7zm4 0h-2V7h2v10zm4 0h-2v-4h2v4z\"/>\n",
              "    </g>\n",
              "</svg>\n",
              "      </button>\n",
              "    </div>\n",
              "\n",
              "<style>\n",
              "  .colab-df-quickchart {\n",
              "    background-color: #E8F0FE;\n",
              "    border: none;\n",
              "    border-radius: 50%;\n",
              "    cursor: pointer;\n",
              "    display: none;\n",
              "    fill: #1967D2;\n",
              "    height: 32px;\n",
              "    padding: 0 0 0 0;\n",
              "    width: 32px;\n",
              "  }\n",
              "\n",
              "  .colab-df-quickchart:hover {\n",
              "    background-color: #E2EBFA;\n",
              "    box-shadow: 0px 1px 2px rgba(60, 64, 67, 0.3), 0px 1px 3px 1px rgba(60, 64, 67, 0.15);\n",
              "    fill: #174EA6;\n",
              "  }\n",
              "\n",
              "  [theme=dark] .colab-df-quickchart {\n",
              "    background-color: #3B4455;\n",
              "    fill: #D2E3FC;\n",
              "  }\n",
              "\n",
              "  [theme=dark] .colab-df-quickchart:hover {\n",
              "    background-color: #434B5C;\n",
              "    box-shadow: 0px 1px 3px 1px rgba(0, 0, 0, 0.15);\n",
              "    filter: drop-shadow(0px 1px 2px rgba(0, 0, 0, 0.3));\n",
              "    fill: #FFFFFF;\n",
              "  }\n",
              "</style>\n",
              "\n",
              "    <script>\n",
              "      async function quickchart(key) {\n",
              "        const containerElement = document.querySelector('#' + key);\n",
              "        const charts = await google.colab.kernel.invokeFunction(\n",
              "            'suggestCharts', [key], {});\n",
              "      }\n",
              "    </script>\n",
              "\n",
              "      <script>\n",
              "\n",
              "function displayQuickchartButton(domScope) {\n",
              "  let quickchartButtonEl =\n",
              "    domScope.querySelector('#df-822896df-353c-4397-bfff-710418eadc3d button.colab-df-quickchart');\n",
              "  quickchartButtonEl.style.display =\n",
              "    google.colab.kernel.accessAllowed ? 'block' : 'none';\n",
              "}\n",
              "\n",
              "        displayQuickchartButton(document);\n",
              "      </script>\n",
              "      <style>\n",
              "    .colab-df-container {\n",
              "      display:flex;\n",
              "      flex-wrap:wrap;\n",
              "      gap: 12px;\n",
              "    }\n",
              "\n",
              "    .colab-df-convert {\n",
              "      background-color: #E8F0FE;\n",
              "      border: none;\n",
              "      border-radius: 50%;\n",
              "      cursor: pointer;\n",
              "      display: none;\n",
              "      fill: #1967D2;\n",
              "      height: 32px;\n",
              "      padding: 0 0 0 0;\n",
              "      width: 32px;\n",
              "    }\n",
              "\n",
              "    .colab-df-convert:hover {\n",
              "      background-color: #E2EBFA;\n",
              "      box-shadow: 0px 1px 2px rgba(60, 64, 67, 0.3), 0px 1px 3px 1px rgba(60, 64, 67, 0.15);\n",
              "      fill: #174EA6;\n",
              "    }\n",
              "\n",
              "    [theme=dark] .colab-df-convert {\n",
              "      background-color: #3B4455;\n",
              "      fill: #D2E3FC;\n",
              "    }\n",
              "\n",
              "    [theme=dark] .colab-df-convert:hover {\n",
              "      background-color: #434B5C;\n",
              "      box-shadow: 0px 1px 3px 1px rgba(0, 0, 0, 0.15);\n",
              "      filter: drop-shadow(0px 1px 2px rgba(0, 0, 0, 0.3));\n",
              "      fill: #FFFFFF;\n",
              "    }\n",
              "  </style>\n",
              "\n",
              "      <script>\n",
              "        const buttonEl =\n",
              "          document.querySelector('#df-bf3b9dde-6079-4737-af86-cddd7dae8eb4 button.colab-df-convert');\n",
              "        buttonEl.style.display =\n",
              "          google.colab.kernel.accessAllowed ? 'block' : 'none';\n",
              "\n",
              "        async function convertToInteractive(key) {\n",
              "          const element = document.querySelector('#df-bf3b9dde-6079-4737-af86-cddd7dae8eb4');\n",
              "          const dataTable =\n",
              "            await google.colab.kernel.invokeFunction('convertToInteractive',\n",
              "                                                     [key], {});\n",
              "          if (!dataTable) return;\n",
              "\n",
              "          const docLinkHtml = 'Like what you see? Visit the ' +\n",
              "            '<a target=\"_blank\" href=https://colab.research.google.com/notebooks/data_table.ipynb>data table notebook</a>'\n",
              "            + ' to learn more about interactive tables.';\n",
              "          element.innerHTML = '';\n",
              "          dataTable['output_type'] = 'display_data';\n",
              "          await google.colab.output.renderOutput(dataTable, element);\n",
              "          const docLink = document.createElement('div');\n",
              "          docLink.innerHTML = docLinkHtml;\n",
              "          element.appendChild(docLink);\n",
              "        }\n",
              "      </script>\n",
              "    </div>\n",
              "  </div>\n"
            ]
          },
          "metadata": {},
          "execution_count": 7
        }
      ]
    },
    {
      "cell_type": "code",
      "source": [
        "!pip install mplfinance"
      ],
      "metadata": {
        "colab": {
          "base_uri": "https://localhost:8080/"
        },
        "id": "bMMMSYLrdCRF",
        "outputId": "57d0b33d-4dec-474f-e195-91936b6b06b6"
      },
      "execution_count": 8,
      "outputs": [
        {
          "output_type": "stream",
          "name": "stdout",
          "text": [
            "Requirement already satisfied: mplfinance in /usr/local/lib/python3.10/dist-packages (0.12.9b7)\n",
            "Requirement already satisfied: matplotlib in /usr/local/lib/python3.10/dist-packages (from mplfinance) (3.7.1)\n",
            "Requirement already satisfied: pandas in /usr/local/lib/python3.10/dist-packages (from mplfinance) (1.5.3)\n",
            "Requirement already satisfied: contourpy>=1.0.1 in /usr/local/lib/python3.10/dist-packages (from matplotlib->mplfinance) (1.1.0)\n",
            "Requirement already satisfied: cycler>=0.10 in /usr/local/lib/python3.10/dist-packages (from matplotlib->mplfinance) (0.11.0)\n",
            "Requirement already satisfied: fonttools>=4.22.0 in /usr/local/lib/python3.10/dist-packages (from matplotlib->mplfinance) (4.41.0)\n",
            "Requirement already satisfied: kiwisolver>=1.0.1 in /usr/local/lib/python3.10/dist-packages (from matplotlib->mplfinance) (1.4.4)\n",
            "Requirement already satisfied: numpy>=1.20 in /usr/local/lib/python3.10/dist-packages (from matplotlib->mplfinance) (1.22.4)\n",
            "Requirement already satisfied: packaging>=20.0 in /usr/local/lib/python3.10/dist-packages (from matplotlib->mplfinance) (23.1)\n",
            "Requirement already satisfied: pillow>=6.2.0 in /usr/local/lib/python3.10/dist-packages (from matplotlib->mplfinance) (8.4.0)\n",
            "Requirement already satisfied: pyparsing>=2.3.1 in /usr/local/lib/python3.10/dist-packages (from matplotlib->mplfinance) (3.1.0)\n",
            "Requirement already satisfied: python-dateutil>=2.7 in /usr/local/lib/python3.10/dist-packages (from matplotlib->mplfinance) (2.8.2)\n",
            "Requirement already satisfied: pytz>=2020.1 in /usr/local/lib/python3.10/dist-packages (from pandas->mplfinance) (2022.7.1)\n",
            "Requirement already satisfied: six>=1.5 in /usr/local/lib/python3.10/dist-packages (from python-dateutil>=2.7->matplotlib->mplfinance) (1.16.0)\n"
          ]
        }
      ]
    },
    {
      "cell_type": "code",
      "source": [
        "%matplotlib inline\n",
        "import pandas as pd\n",
        "import matplotlib.pyplot as plt\n",
        "import mplfinance as mpf\n",
        "import matplotlib.font_manager as fm\n",
        "import matplotlib as mpl\n",
        "\n",
        "# 下載字體\n",
        "# !wget https://drive.google.com/uc?id=1eGAsTN1HBpJAkeVM57_C7ccp7hbgSz3_&export=download -O TaipeiSansTCBeta-Regular.ttf\n",
        "\n",
        "# 註冊字體\n",
        "# font_path = 'TaipeiSansTCBeta-Regular.ttf'\n",
        "# prop = fm.FontProperties(fname=font_path)\n",
        "# 設定 matplotlib 字體\n",
        "# mpl.rcParams['font.family'] = prop.get_name()\n",
        "# font={'font.family': prop.get_name()}\n",
        "# style=mpf.make_mpf_style(base_mpf_style='default', rc=font)"
      ],
      "metadata": {
        "id": "zpz4lY9dk2j2"
      },
      "execution_count": 9,
      "outputs": []
    },
    {
      "cell_type": "code",
      "source": [
        "import random\n",
        "\n",
        "count = 40\n",
        "\n",
        "def get_random_count_values_dataframe(df):\n",
        "    if len(df) < count:\n",
        "        raise ValueError(\"DataFrame 中的資料數量不足 40 個\")\n",
        "\n",
        "    start_index = random.randint(0, len(df) - count)\n",
        "\n",
        "    selected_values = df.iloc[start_index : start_index + count]\n",
        "\n",
        "    selected_df = pd.DataFrame(selected_values)\n",
        "\n",
        "    return selected_df"
      ],
      "metadata": {
        "id": "ei9s-g44D_9B"
      },
      "execution_count": 10,
      "outputs": []
    },
    {
      "cell_type": "code",
      "source": [
        "df = get_random_count_values_dataframe(dataframe)\n",
        "\n",
        "# 將索引設定為 DatetimeIndex\n",
        "df.set_index('date', inplace=True)\n",
        "\n",
        "# 繪製 K 線圖\n",
        "mpf.plot(df, type='candle', style='charles', title='k bar')\n",
        "\n",
        "# 顯示圖表\n",
        "plt.show()"
      ],
      "metadata": {
        "colab": {
          "base_uri": "https://localhost:8080/",
          "height": 554
        },
        "id": "QmE02njrFce9",
        "outputId": "c38182ce-b578-40cf-d8c9-e18be27a5845"
      },
      "execution_count": 13,
      "outputs": [
        {
          "output_type": "display_data",
          "data": {
            "text/plain": [
              "<Figure size 800x575 with 2 Axes>"
            ],
            "image/png": "[encoded data removed]"
          },
          "metadata": {}
        }
      ]
    },
    {
      "cell_type": "code",
      "source": [
        "url = 'https://anaconda.org/conda-forge/libta-lib/0.4.0/download/linux-64/libta-lib-0.4.0-h166bdaf_1.tar.bz2'\n",
        "!curl -L $url | tar xj -C /usr/lib/x86_64-linux-gnu/ lib --strip-components=1\n",
        "url = 'https://anaconda.org/conda-forge/ta-lib/0.4.19/download/linux-64/ta-lib-0.4.19-py310hde88566_4.tar.bz2'\n",
        "!curl -L $url | tar xj -C /usr/local/lib/python3.10/dist-packages/ lib/python3.10/site-packages/talib --strip-components=3\n",
        "import talib\n"
      ],
      "metadata": {
        "colab": {
          "base_uri": "https://localhost:8080/"
        },
        "id": "csyR88lsg57A",
        "outputId": "a6957b7b-8bd0-4c25-b7f7-3b25ead57269"
      },
      "execution_count": 14,
      "outputs": [
        {
          "output_type": "stream",
          "name": "stdout",
          "text": [
            "  % Total    % Received % Xferd  Average Speed   Time    Time     Time  Current\n",
            "                                 Dload  Upload   Total   Spent    Left  Speed\n",
            "100  4295    0  4295    0     0  16045      0 --:--:-- --:--:-- --:--:-- 16026\n",
            "100  517k  100  517k    0     0   808k      0 --:--:-- --:--:-- --:--:--  808k\n",
            "  % Total    % Received % Xferd  Average Speed   Time    Time     Time  Current\n",
            "                                 Dload  Upload   Total   Spent    Left  Speed\n",
            "100  4335    0  4335    0     0  12597      0 --:--:-- --:--:-- --:--:-- 12638\n",
            "100  392k  100  392k    0     0   516k      0 --:--:-- --:--:-- --:--:-- 2282k\n"
          ]
        }
      ]
    },
    {
      "cell_type": "code",
      "source": [
        "import talib.abstract as ta"
      ],
      "metadata": {
        "id": "ryr66KXYFhKA"
      },
      "execution_count": 15,
      "outputs": []
    },
    {
      "cell_type": "code",
      "source": [
        "macd = ta.MACD(dataframe, fastperiod=13, slowperiod=34)\n",
        "dataframe['macdhist'] = macd['macdhist']"
      ],
      "metadata": {
        "id": "P6MoH22jGYBR"
      },
      "execution_count": 16,
      "outputs": []
    },
    {
      "cell_type": "code",
      "source": [
        "# 尋找三個峰值且這些波峰連續升高\n",
        "def find_peak_sequence(data):\n",
        "    peaks_index = []\n",
        "    wave = []\n",
        "\n",
        "    for i in range(len(data)):\n",
        "        if i == len(data) - 1:\n",
        "            break\n",
        "        d = abs(data[i])\n",
        "        if len(wave) == 0 or d > wave[-1]:\n",
        "            wave.append(d)\n",
        "        else:\n",
        "            if len(wave) > 1:\n",
        "                peaks_index.append(i-1)\n",
        "            wave = [d]\n",
        "\n",
        "    if len(wave) > 0:\n",
        "        peaks_index.append(i)\n",
        "\n",
        "    highlighted_points = [(index, data[index]) for index in peaks_index]\n",
        "\n",
        "    temp = highlighted_points[-1]\n",
        "    highlighted_points = highlighted_points[:-1]\n",
        "    highlighted_points = [n for n in highlighted_points if n[1] < 0]\n",
        "    highlighted_points = sorted(\n",
        "        highlighted_points, key=lambda x: abs(x[1]), reverse=True)[:2]\n",
        "    highlighted_points = sorted(\n",
        "        highlighted_points, key=lambda x: x[0], reverse=False)\n",
        "    highlighted_points.append(temp)\n",
        "\n",
        "    if len(highlighted_points) >= 3:\n",
        "        if abs(highlighted_points[-3][1]) > abs(highlighted_points[-2][1]) > abs(highlighted_points[-1][1]):\n",
        "                return True, highlighted_points\n",
        "\n",
        "    return False, []\n",
        "\n",
        "# 多單條件檢查 零軸以下的 MACD 柱狀體應該大於 windows 的一半\n",
        "def find_peak_sequence_logn_wrapper(data):\n",
        "  if data[-1] > 0:\n",
        "    return False, []\n",
        "  count = sum(1 for value in data if value < 0)\n",
        "  if count < (len(data) / 2):\n",
        "      return False, []\n",
        "  return find_peak_sequence(data)"
      ],
      "metadata": {
        "id": "d0SobtJhkfd8"
      },
      "execution_count": 93,
      "outputs": []
    },
    {
      "cell_type": "code",
      "source": [
        "while True:\n",
        "  df = get_random_count_values_dataframe(dataframe)\n",
        "  data = df['macdhist'].values.tolist()\n",
        "\n",
        "  isfind, l = find_peak_sequence_logn_wrapper(data)\n",
        "\n",
        "\n",
        "  if isfind:\n",
        "    print(data)\n",
        "    print(l)\n",
        "    df.set_index('date', inplace=True)\n",
        "\n",
        "    # 建立一個 MACD histogram 的圖像\n",
        "    ap = mpf.make_addplot(df['macdhist'], panel=1, color='g', secondary_y=False)\n",
        "\n",
        "    # 繪製 K 線圖，並添加 MACD histogram\n",
        "    mpf.plot(df, type='candle', style='charles', title='k bar', addplot=ap)\n",
        "\n",
        "    # 顯示圖表\n",
        "    plt.show()\n",
        "\n",
        "    break"
      ],
      "metadata": {
        "colab": {
          "base_uri": "https://localhost:8080/",
          "height": 611
        },
        "id": "nyBW7GnykuEM",
        "outputId": "fc2410d4-8d9f-41bd-d201-d24c1501b5f0"
      },
      "execution_count": 94,
      "outputs": [
        {
          "output_type": "stream",
          "name": "stdout",
          "text": [
            "[-2.6791752641953437, -2.242741600229504, -2.044277891431042, -2.5778134909544566, -2.587531431077709, -2.6824957909439497, -3.157874136983483, -3.1827596828133684, -2.6042456187242005, -2.153108935230529, -1.7866654641084967, -0.9036000208886223, -0.32058094292128025, 0.04965314836638424, 0.5200114104551368, 1.317707318291374, 1.6019850431591447, 1.523171791810249, 0.5633465666460493, 0.5572374320865627, -0.7481005422325584, -1.3229727626074084, -2.2568059668423546, -2.6495637923445807, -1.9642542644230279, -1.6024175296397245, -1.3124882540563485, -0.8166094611954584, -0.4114801352736692, 0.4687734923032689, 0.34323687531694835, -1.181097973105726, -1.4486879943356405, -1.570974562265131, -1.866234154379216, -1.6460512071285183, -1.644274356618936, -1.5753846952396426, -0.8540254957176054, -0.4295894233580254]\n",
            "[(7, -3.1827596828133684), (23, -2.6495637923445807), (39, -0.4295894233580254)]\n"
          ]
        },
        {
          "output_type": "display_data",
          "data": {
            "text/plain": [
              "<Figure size 800x575 with 4 Axes>"
            ],
            "image/png": "[encoded data removed]"
          },
          "metadata": {}
        }
      ]
    },
    {
      "cell_type": "code",
      "source": [],
      "metadata": {
        "id": "N84uinksm91L"
      },
      "execution_count": null,
      "outputs": []
    }
  ]
}