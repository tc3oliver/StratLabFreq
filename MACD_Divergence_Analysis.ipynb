{
  "nbformat": 4,
  "nbformat_minor": 0,
  "metadata": {
    "colab": {
      "provenance": [],
      "toc_visible": true,
      "mount_file_id": "1BwpTyyXZPpBCCERuGr5e48hit9cd_LkX",
      "authorship_tag": "ABX9TyNW1mXQXDwPCvI25sOwNZ/s",
      "include_colab_link": true
    },
    "kernelspec": {
      "name": "python3",
      "display_name": "Python 3"
    },
    "language_info": {
      "name": "python"
    }
  },
  "cells": [
    {
      "cell_type": "markdown",
      "metadata": {
        "id": "view-in-github",
        "colab_type": "text"
      },
      "source": [
        "<a href=\"https://colab.research.google.com/github/tc3oliver/StratLabFreq/blob/dev/MACD_Divergence_Analysis.ipynb\" target=\"_parent\"><img src=\"https://colab.research.google.com/assets/colab-badge.svg\" alt=\"Open In Colab\"/></a>"
      ]
    },
    {
      "cell_type": "markdown",
      "source": [
        "## 下載及 import"
      ],
      "metadata": {
        "id": "r8LsUuwzpwZr"
      }
    },
    {
      "cell_type": "code",
      "execution_count": 31,
      "metadata": {
        "colab": {
          "base_uri": "https://localhost:8080/"
        },
        "id": "21lKqjEEaXAB",
        "outputId": "e5e98ac0-35c7-4cfa-f421-612914b4e235"
      },
      "outputs": [
        {
          "output_type": "execute_result",
          "data": {
            "text/plain": [
              "['data', 'TaipeiSansTCBeta-Regular.ttf', 'MACD_Divergence_Analysis.ipynb']"
            ]
          },
          "metadata": {},
          "execution_count": 31
        }
      ],
      "source": [
        "import os\n",
        "os.chdir('/content/drive/MyDrive/Colab Notebooks/StratLabFreq')\n",
        "os.listdir()"
      ]
    },
    {
      "cell_type": "code",
      "source": [
        "!pip install mplfinance"
      ],
      "metadata": {
        "colab": {
          "base_uri": "https://localhost:8080/"
        },
        "id": "pezRecJuo_PT",
        "outputId": "faa43abd-e355-4df9-a56c-8d974acf1e4c"
      },
      "execution_count": 32,
      "outputs": [
        {
          "output_type": "stream",
          "name": "stdout",
          "text": [
            "Requirement already satisfied: mplfinance in /usr/local/lib/python3.10/dist-packages (0.12.9b7)\n",
            "Requirement already satisfied: matplotlib in /usr/local/lib/python3.10/dist-packages (from mplfinance) (3.7.1)\n",
            "Requirement already satisfied: pandas in /usr/local/lib/python3.10/dist-packages (from mplfinance) (1.5.3)\n",
            "Requirement already satisfied: contourpy>=1.0.1 in /usr/local/lib/python3.10/dist-packages (from matplotlib->mplfinance) (1.1.0)\n",
            "Requirement already satisfied: cycler>=0.10 in /usr/local/lib/python3.10/dist-packages (from matplotlib->mplfinance) (0.11.0)\n",
            "Requirement already satisfied: fonttools>=4.22.0 in /usr/local/lib/python3.10/dist-packages (from matplotlib->mplfinance) (4.41.1)\n",
            "Requirement already satisfied: kiwisolver>=1.0.1 in /usr/local/lib/python3.10/dist-packages (from matplotlib->mplfinance) (1.4.4)\n",
            "Requirement already satisfied: numpy>=1.20 in /usr/local/lib/python3.10/dist-packages (from matplotlib->mplfinance) (1.22.4)\n",
            "Requirement already satisfied: packaging>=20.0 in /usr/local/lib/python3.10/dist-packages (from matplotlib->mplfinance) (23.1)\n",
            "Requirement already satisfied: pillow>=6.2.0 in /usr/local/lib/python3.10/dist-packages (from matplotlib->mplfinance) (9.4.0)\n",
            "Requirement already satisfied: pyparsing>=2.3.1 in /usr/local/lib/python3.10/dist-packages (from matplotlib->mplfinance) (3.1.0)\n",
            "Requirement already satisfied: python-dateutil>=2.7 in /usr/local/lib/python3.10/dist-packages (from matplotlib->mplfinance) (2.8.2)\n",
            "Requirement already satisfied: pytz>=2020.1 in /usr/local/lib/python3.10/dist-packages (from pandas->mplfinance) (2022.7.1)\n",
            "Requirement already satisfied: six>=1.5 in /usr/local/lib/python3.10/dist-packages (from python-dateutil>=2.7->matplotlib->mplfinance) (1.16.0)\n"
          ]
        }
      ]
    },
    {
      "cell_type": "code",
      "source": [
        "%matplotlib inline\n",
        "import pandas as pd\n",
        "import matplotlib.pyplot as plt\n",
        "import mplfinance as mpf\n",
        "import matplotlib.font_manager as fm\n",
        "import matplotlib as mpl\n",
        "import numpy as np\n",
        "import statistics\n",
        "\n",
        "url = 'https://anaconda.org/conda-forge/libta-lib/0.4.0/download/linux-64/libta-lib-0.4.0-h166bdaf_1.tar.bz2'\n",
        "!curl -L $url | tar xj -C /usr/lib/x86_64-linux-gnu/ lib --strip-components=1\n",
        "url = 'https://anaconda.org/conda-forge/ta-lib/0.4.19/download/linux-64/ta-lib-0.4.19-py310hde88566_4.tar.bz2'\n",
        "!curl -L $url | tar xj -C /usr/local/lib/python3.10/dist-packages/ lib/python3.10/site-packages/talib --strip-components=3\n",
        "import talib\n",
        "import talib.abstract as ta"
      ],
      "metadata": {
        "id": "4tTbsldbbrCt",
        "colab": {
          "base_uri": "https://localhost:8080/"
        },
        "outputId": "d60337e6-f3a8-4643-9290-98ef070bb6af"
      },
      "execution_count": 33,
      "outputs": [
        {
          "output_type": "stream",
          "name": "stdout",
          "text": [
            "  % Total    % Received % Xferd  Average Speed   Time    Time     Time  Current\n",
            "                                 Dload  Upload   Total   Spent    Left  Speed\n",
            "100  4291    0  4291    0     0  15000      0 --:--:-- --:--:-- --:--:-- 15003\n",
            "100  517k  100  517k    0     0   816k      0 --:--:-- --:--:-- --:--:--  816k\n",
            "  % Total    % Received % Xferd  Average Speed   Time    Time     Time  Current\n",
            "                                 Dload  Upload   Total   Spent    Left  Speed\n",
            "100  4251    0  4251    0     0  10756      0 --:--:-- --:--:-- --:--:-- 10734\n",
            "100  392k  100  392k    0     0   496k      0 --:--:-- --:--:-- --:--:--  496k\n"
          ]
        }
      ]
    },
    {
      "cell_type": "markdown",
      "source": [
        "## 載入資料\n"
      ],
      "metadata": {
        "id": "wtvXKNhmpDUa"
      }
    },
    {
      "cell_type": "code",
      "source": [
        "dataframe = pd.read_json('./data/BTC_USDT-5m.json')\n",
        "dataframe.columns=['date', 'open' , 'high', 'low', 'close', 'volume' ]\n",
        "dataframe['date']=(pd.to_datetime(dataframe['date'],unit='ms'))"
      ],
      "metadata": {
        "id": "W1mxpPXbcJHC"
      },
      "execution_count": 34,
      "outputs": []
    },
    {
      "cell_type": "code",
      "source": [
        "macd = ta.MACD(dataframe, fastperiod=13, slowperiod=34)\n",
        "dataframe['macdhist'] = macd['macdhist']"
      ],
      "metadata": {
        "id": "P6MoH22jGYBR"
      },
      "execution_count": 35,
      "outputs": []
    },
    {
      "cell_type": "markdown",
      "source": [
        "## 隨機選取 count K棒"
      ],
      "metadata": {
        "id": "usSqFnjJon2A"
      }
    },
    {
      "cell_type": "code",
      "source": [
        "import random\n",
        "\n",
        "count = 40\n",
        "\n",
        "def get_random_count_values_dataframe(df):\n",
        "    if len(df) < count:\n",
        "        raise ValueError(\"DataFrame 中的資料數量不足 40 個\")\n",
        "\n",
        "    start_index = random.randint(0, len(df) - count)\n",
        "\n",
        "    selected_values = df.iloc[start_index : start_index + count]\n",
        "\n",
        "    selected_df = pd.DataFrame(selected_values)\n",
        "\n",
        "    return selected_df"
      ],
      "metadata": {
        "id": "kiv9nkvAosMi"
      },
      "execution_count": 36,
      "outputs": []
    },
    {
      "cell_type": "code",
      "source": [
        "df = get_random_count_values_dataframe(dataframe)\n",
        "df.head()"
      ],
      "metadata": {
        "colab": {
          "base_uri": "https://localhost:8080/",
          "height": 206
        },
        "id": "THkwS6hiozBI",
        "outputId": "6e7ec59e-f158-45c2-ed5c-821a8afe6ded"
      },
      "execution_count": 37,
      "outputs": [
        {
          "output_type": "execute_result",
          "data": {
            "text/plain": [
              "                      date      open      high       low     close     volume  \\\n",
              "608076 2023-06-04 11:55:00  27184.83  27198.55  27184.82  27198.55   29.60512   \n",
              "608077 2023-06-04 12:00:00  27198.54  27198.55  27177.10  27177.10  100.33065   \n",
              "608078 2023-06-04 12:05:00  27177.11  27193.04  27177.10  27193.04   50.34164   \n",
              "608079 2023-06-04 12:10:00  27193.03  27194.40  27193.03  27194.39   18.07231   \n",
              "608080 2023-06-04 12:15:00  27194.39  27194.82  27176.68  27176.68   39.60966   \n",
              "\n",
              "        macdhist  \n",
              "608076 -6.638618  \n",
              "608077 -7.766362  \n",
              "608078 -7.132468  \n",
              "608079 -6.376895  \n",
              "608080 -6.873135  "
            ],
            "text/html": [
              "\n",
              "\n",
              "  <div id=\"df-d3ee2381-131e-4e94-9be0-4720833896d3\">\n",
              "    <div class=\"colab-df-container\">\n",
              "      <div>\n",
              "<style scoped>\n",
              "    .dataframe tbody tr th:only-of-type {\n",
              "        vertical-align: middle;\n",
              "    }\n",
              "\n",
              "    .dataframe tbody tr th {\n",
              "        vertical-align: top;\n",
              "    }\n",
              "\n",
              "    .dataframe thead th {\n",
              "        text-align: right;\n",
              "    }\n",
              "</style>\n",
              "<table border=\"1\" class=\"dataframe\">\n",
              "  <thead>\n",
              "    <tr style=\"text-align: right;\">\n",
              "      <th></th>\n",
              "      <th>date</th>\n",
              "      <th>open</th>\n",
              "      <th>high</th>\n",
              "      <th>low</th>\n",
              "      <th>close</th>\n",
              "      <th>volume</th>\n",
              "      <th>macdhist</th>\n",
              "    </tr>\n",
              "  </thead>\n",
              "  <tbody>\n",
              "    <tr>\n",
              "      <th>608076</th>\n",
              "      <td>2023-06-04 11:55:00</td>\n",
              "      <td>27184.83</td>\n",
              "      <td>27198.55</td>\n",
              "      <td>27184.82</td>\n",
              "      <td>27198.55</td>\n",
              "      <td>29.60512</td>\n",
              "      <td>-6.638618</td>\n",
              "    </tr>\n",
              "    <tr>\n",
              "      <th>608077</th>\n",
              "      <td>2023-06-04 12:00:00</td>\n",
              "      <td>27198.54</td>\n",
              "      <td>27198.55</td>\n",
              "      <td>27177.10</td>\n",
              "      <td>27177.10</td>\n",
              "      <td>100.33065</td>\n",
              "      <td>-7.766362</td>\n",
              "    </tr>\n",
              "    <tr>\n",
              "      <th>608078</th>\n",
              "      <td>2023-06-04 12:05:00</td>\n",
              "      <td>27177.11</td>\n",
              "      <td>27193.04</td>\n",
              "      <td>27177.10</td>\n",
              "      <td>27193.04</td>\n",
              "      <td>50.34164</td>\n",
              "      <td>-7.132468</td>\n",
              "    </tr>\n",
              "    <tr>\n",
              "      <th>608079</th>\n",
              "      <td>2023-06-04 12:10:00</td>\n",
              "      <td>27193.03</td>\n",
              "      <td>27194.40</td>\n",
              "      <td>27193.03</td>\n",
              "      <td>27194.39</td>\n",
              "      <td>18.07231</td>\n",
              "      <td>-6.376895</td>\n",
              "    </tr>\n",
              "    <tr>\n",
              "      <th>608080</th>\n",
              "      <td>2023-06-04 12:15:00</td>\n",
              "      <td>27194.39</td>\n",
              "      <td>27194.82</td>\n",
              "      <td>27176.68</td>\n",
              "      <td>27176.68</td>\n",
              "      <td>39.60966</td>\n",
              "      <td>-6.873135</td>\n",
              "    </tr>\n",
              "  </tbody>\n",
              "</table>\n",
              "</div>\n",
              "      <button class=\"colab-df-convert\" onclick=\"convertToInteractive('df-d3ee2381-131e-4e94-9be0-4720833896d3')\"\n",
              "              title=\"Convert this dataframe to an interactive table.\"\n",
              "              style=\"display:none;\">\n",
              "\n",
              "  <svg xmlns=\"http://www.w3.org/2000/svg\" height=\"24px\"viewBox=\"0 0 24 24\"\n",
              "       width=\"24px\">\n",
              "    <path d=\"M0 0h24v24H0V0z\" fill=\"none\"/>\n",
              "    <path d=\"M18.56 5.44l.94 2.06.94-2.06 2.06-.94-2.06-.94-.94-2.06-.94 2.06-2.06.94zm-11 1L8.5 8.5l.94-2.06 2.06-.94-2.06-.94L8.5 2.5l-.94 2.06-2.06.94zm10 10l.94 2.06.94-2.06 2.06-.94-2.06-.94-.94-2.06-.94 2.06-2.06.94z\"/><path d=\"M17.41 7.96l-1.37-1.37c-.4-.4-.92-.59-1.43-.59-.52 0-1.04.2-1.43.59L10.3 9.45l-7.72 7.72c-.78.78-.78 2.05 0 2.83L4 21.41c.39.39.9.59 1.41.59.51 0 1.02-.2 1.41-.59l7.78-7.78 2.81-2.81c.8-.78.8-2.07 0-2.86zM5.41 20L4 18.59l7.72-7.72 1.47 1.35L5.41 20z\"/>\n",
              "  </svg>\n",
              "      </button>\n",
              "\n",
              "\n",
              "\n",
              "    <div id=\"df-10d9e767-b1e0-4f85-a75e-aec725858aee\">\n",
              "      <button class=\"colab-df-quickchart\" onclick=\"quickchart('df-10d9e767-b1e0-4f85-a75e-aec725858aee')\"\n",
              "              title=\"Suggest charts.\"\n",
              "              style=\"display:none;\">\n",
              "\n",
              "<svg xmlns=\"http://www.w3.org/2000/svg\" height=\"24px\"viewBox=\"0 0 24 24\"\n",
              "     width=\"24px\">\n",
              "    <g>\n",
              "        <path d=\"M19 3H5c-1.1 0-2 .9-2 2v14c0 1.1.9 2 2 2h14c1.1 0 2-.9 2-2V5c0-1.1-.9-2-2-2zM9 17H7v-7h2v7zm4 0h-2V7h2v10zm4 0h-2v-4h2v4z\"/>\n",
              "    </g>\n",
              "</svg>\n",
              "      </button>\n",
              "    </div>\n",
              "\n",
              "<style>\n",
              "  .colab-df-quickchart {\n",
              "    background-color: #E8F0FE;\n",
              "    border: none;\n",
              "    border-radius: 50%;\n",
              "    cursor: pointer;\n",
              "    display: none;\n",
              "    fill: #1967D2;\n",
              "    height: 32px;\n",
              "    padding: 0 0 0 0;\n",
              "    width: 32px;\n",
              "  }\n",
              "\n",
              "  .colab-df-quickchart:hover {\n",
              "    background-color: #E2EBFA;\n",
              "    box-shadow: 0px 1px 2px rgba(60, 64, 67, 0.3), 0px 1px 3px 1px rgba(60, 64, 67, 0.15);\n",
              "    fill: #174EA6;\n",
              "  }\n",
              "\n",
              "  [theme=dark] .colab-df-quickchart {\n",
              "    background-color: #3B4455;\n",
              "    fill: #D2E3FC;\n",
              "  }\n",
              "\n",
              "  [theme=dark] .colab-df-quickchart:hover {\n",
              "    background-color: #434B5C;\n",
              "    box-shadow: 0px 1px 3px 1px rgba(0, 0, 0, 0.15);\n",
              "    filter: drop-shadow(0px 1px 2px rgba(0, 0, 0, 0.3));\n",
              "    fill: #FFFFFF;\n",
              "  }\n",
              "</style>\n",
              "\n",
              "    <script>\n",
              "      async function quickchart(key) {\n",
              "        const containerElement = document.querySelector('#' + key);\n",
              "        const charts = await google.colab.kernel.invokeFunction(\n",
              "            'suggestCharts', [key], {});\n",
              "      }\n",
              "    </script>\n",
              "\n",
              "      <script>\n",
              "\n",
              "function displayQuickchartButton(domScope) {\n",
              "  let quickchartButtonEl =\n",
              "    domScope.querySelector('#df-10d9e767-b1e0-4f85-a75e-aec725858aee button.colab-df-quickchart');\n",
              "  quickchartButtonEl.style.display =\n",
              "    google.colab.kernel.accessAllowed ? 'block' : 'none';\n",
              "}\n",
              "\n",
              "        displayQuickchartButton(document);\n",
              "      </script>\n",
              "      <style>\n",
              "    .colab-df-container {\n",
              "      display:flex;\n",
              "      flex-wrap:wrap;\n",
              "      gap: 12px;\n",
              "    }\n",
              "\n",
              "    .colab-df-convert {\n",
              "      background-color: #E8F0FE;\n",
              "      border: none;\n",
              "      border-radius: 50%;\n",
              "      cursor: pointer;\n",
              "      display: none;\n",
              "      fill: #1967D2;\n",
              "      height: 32px;\n",
              "      padding: 0 0 0 0;\n",
              "      width: 32px;\n",
              "    }\n",
              "\n",
              "    .colab-df-convert:hover {\n",
              "      background-color: #E2EBFA;\n",
              "      box-shadow: 0px 1px 2px rgba(60, 64, 67, 0.3), 0px 1px 3px 1px rgba(60, 64, 67, 0.15);\n",
              "      fill: #174EA6;\n",
              "    }\n",
              "\n",
              "    [theme=dark] .colab-df-convert {\n",
              "      background-color: #3B4455;\n",
              "      fill: #D2E3FC;\n",
              "    }\n",
              "\n",
              "    [theme=dark] .colab-df-convert:hover {\n",
              "      background-color: #434B5C;\n",
              "      box-shadow: 0px 1px 3px 1px rgba(0, 0, 0, 0.15);\n",
              "      filter: drop-shadow(0px 1px 2px rgba(0, 0, 0, 0.3));\n",
              "      fill: #FFFFFF;\n",
              "    }\n",
              "  </style>\n",
              "\n",
              "      <script>\n",
              "        const buttonEl =\n",
              "          document.querySelector('#df-d3ee2381-131e-4e94-9be0-4720833896d3 button.colab-df-convert');\n",
              "        buttonEl.style.display =\n",
              "          google.colab.kernel.accessAllowed ? 'block' : 'none';\n",
              "\n",
              "        async function convertToInteractive(key) {\n",
              "          const element = document.querySelector('#df-d3ee2381-131e-4e94-9be0-4720833896d3');\n",
              "          const dataTable =\n",
              "            await google.colab.kernel.invokeFunction('convertToInteractive',\n",
              "                                                     [key], {});\n",
              "          if (!dataTable) return;\n",
              "\n",
              "          const docLinkHtml = 'Like what you see? Visit the ' +\n",
              "            '<a target=\"_blank\" href=https://colab.research.google.com/notebooks/data_table.ipynb>data table notebook</a>'\n",
              "            + ' to learn more about interactive tables.';\n",
              "          element.innerHTML = '';\n",
              "          dataTable['output_type'] = 'display_data';\n",
              "          await google.colab.output.renderOutput(dataTable, element);\n",
              "          const docLink = document.createElement('div');\n",
              "          docLink.innerHTML = docLinkHtml;\n",
              "          element.appendChild(docLink);\n",
              "        }\n",
              "      </script>\n",
              "    </div>\n",
              "  </div>\n"
            ]
          },
          "metadata": {},
          "execution_count": 37
        }
      ]
    },
    {
      "cell_type": "markdown",
      "source": [
        "## 尋找 macd 柱狀體波峰"
      ],
      "metadata": {
        "id": "IaakIhJNog72"
      }
    },
    {
      "cell_type": "code",
      "source": [
        "# 尋找三個峰值且這些波峰連續升高\n",
        "def find_peak_sequence(data):\n",
        "        peaks_index = []\n",
        "        wave = []\n",
        "\n",
        "        for i in range(len(data)):\n",
        "            if i == len(data) - 1:\n",
        "                break\n",
        "            d = abs(data[i])\n",
        "            if len(wave) == 0 or d > wave[-1]:\n",
        "                wave.append(d)\n",
        "            else:\n",
        "                if len(wave) > 1:\n",
        "                    peaks_index.append(i-1)\n",
        "                wave = [d]\n",
        "\n",
        "        if len(wave) > 0:\n",
        "            peaks_index.append(i)\n",
        "\n",
        "        highlighted_points = [(index, data[index]) for index in peaks_index]\n",
        "\n",
        "        temp = highlighted_points[-1]\n",
        "\n",
        "\n",
        "        if len(highlighted_points) < 3:\n",
        "            return False, []\n",
        "\n",
        "        highlighted_points = highlighted_points[:-1]\n",
        "\n",
        "        highlighted_points = sorted(\n",
        "            highlighted_points, key=lambda x: abs(x[1]), reverse=True)[:2]\n",
        "        highlighted_points = sorted(\n",
        "            highlighted_points, key=lambda x: x[0], reverse=False)\n",
        "        highlighted_points.append(temp)\n",
        "\n",
        "        if len(highlighted_points) >= 3:\n",
        "          # 波峰的差異\n",
        "          percentage_difference = abs(abs(highlighted_points[-1][1]) - abs(highlighted_points[-3][1])) / (abs(highlighted_points[-3][1])) * 100\n",
        "\n",
        "          # 波峰的步數\n",
        "          step = abs(highlighted_points[-3][0] - highlighted_points[-1][0])\n",
        "\n",
        "          print(percentage_difference, step)\n",
        "\n",
        "          if percentage_difference < 50:\n",
        "            return False, []\n",
        "\n",
        "          if step < count * 0.5:\n",
        "            return False, []\n",
        "\n",
        "          if abs(highlighted_points[-3][1]) > abs(highlighted_points[-2][1]) > abs(highlighted_points[-1][1]):\n",
        "            return True, highlighted_points\n",
        "\n",
        "        return False, []\n",
        "\n"
      ],
      "metadata": {
        "id": "U0F_2-AU-Awk"
      },
      "execution_count": 38,
      "outputs": []
    },
    {
      "cell_type": "markdown",
      "source": [
        "## 多單"
      ],
      "metadata": {
        "id": "aySgmGCNngeX"
      }
    },
    {
      "cell_type": "code",
      "source": [
        "# 判斷低點持續降低\n",
        "min_open_close = pd.Series.min(dataframe[['open', 'close']], axis=1)\n",
        "dataframe['is_low_decreasing'] = min_open_close.rolling(window=count).apply(lambda x: (x[-1] < x[0]) & (x[-1] < min(x[:-1])), raw=True)\n",
        "\n",
        "# 多單條件檢查 零軸以下的 MACD 柱狀體應該大於 windows 的一半\n",
        "def find_peak_sequence_logn_wrapper(data):\n",
        "  if data[-1] > 0:\n",
        "    return False, []\n",
        "  count = sum(1 for value in data if value < 0)\n",
        "  if count < (len(data) / 2):\n",
        "      return False, []\n",
        "  return find_peak_sequence(data)"
      ],
      "metadata": {
        "id": "D88aUR7RZyiy"
      },
      "execution_count": 39,
      "outputs": []
    },
    {
      "cell_type": "code",
      "source": [
        "while True:\n",
        "\n",
        "  df = get_random_count_values_dataframe(dataframe)\n",
        "  data = df['macdhist'].values.tolist()\n",
        "\n",
        "\n",
        "\n",
        "  isfind, l = find_peak_sequence_logn_wrapper(data)\n",
        "\n",
        "\n",
        "  if isfind:\n",
        "\n",
        "    if df['is_low_decreasing'].values.tolist()[-1]:\n",
        "      print(data)\n",
        "      print(l)\n",
        "      df.set_index('date', inplace=True)\n",
        "\n",
        "      # 建立一個 MACD histogram 的圖像\n",
        "      ap = mpf.make_addplot(df['macdhist'], panel=1, color='g', secondary_y=False)\n",
        "\n",
        "      # 繪製 K 線圖，並添加 MACD histogram\n",
        "      mpf.plot(df, type='candle', style='charles', title='k bar', addplot=ap)\n",
        "\n",
        "      # 顯示圖表\n",
        "      plt.show()\n",
        "\n",
        "      break"
      ],
      "metadata": {
        "colab": {
          "base_uri": "https://localhost:8080/",
          "height": 925
        },
        "id": "3qwKXv0UZ3HZ",
        "outputId": "b173e2d9-5d61-4860-ed39-0f7a35f750e3"
      },
      "execution_count": 40,
      "outputs": [
        {
          "output_type": "stream",
          "name": "stdout",
          "text": [
            "18.24196656502109 38\n",
            "72.88098103357027 30\n",
            "62.41665479910914 20\n",
            "82.49292087843767 24\n",
            "96.53913283476821 34\n",
            "95.45240269921709 31\n",
            "96.43497492465866 37\n",
            "93.66574836901057 37\n",
            "36.794542480580645 18\n",
            "95.06315792811165 26\n",
            "95.22300946172444 20\n",
            "64.58572636930187 35\n",
            "66.97908004254215 13\n",
            "26.319077672367747 33\n",
            "83.7540839207246 13\n",
            "39.03801025532911 22\n",
            "66.13741591505963 27\n",
            "[-11.81694179559124, -19.666042028912322, -8.493901827565146, -4.508028959409927, -11.770523991434423, -18.06345910688289, -19.769512750099253, -38.45347488156405, -58.013664487068326, -86.37794748210233, -116.37639415453026, -116.81542064508898, -117.74803237457232, -96.87490516475748, -79.66029791109332, -59.95582176632837, -47.2112300155913, -35.48234318430036, -10.201099116725345, 6.385908792197711, 24.738849525417322, 31.021463203515395, 30.770031407034907, 29.91347689228394, 33.94422552174865, 42.75940228554356, 35.766149298971015, 30.7955087641422, 8.444185187396982, 4.197688922621353, -2.711905180691474, -8.807590714274738, 11.759004138272587, 26.70486865664776, 36.740520350139604, 30.879804336570118, 22.772146729597154, 9.158953720946215, -8.270513842881599, -39.87252647120235]\n",
            "[(12, -117.74803237457232), (25, 42.75940228554356), (39, -39.87252647120235)]\n"
          ]
        },
        {
          "output_type": "display_data",
          "data": {
            "text/plain": [
              "<Figure size 800x575 with 4 Axes>"
            ],
            "image/png": "[encoded data removed]"
          },
          "metadata": {}
        }
      ]
    },
    {
      "cell_type": "markdown",
      "source": [
        "## 空單"
      ],
      "metadata": {
        "id": "uBZohX40nXao"
      }
    },
    {
      "cell_type": "code",
      "source": [
        "# dataframe['is_high_decreasing'] = dataframe['high'].rolling(window=count).apply(lambda x: (x[-1] > x[0]) & (x[-1] > max(x[:-1])), raw=True)\n",
        "# 判斷高點持續提高\n",
        "max_open_close = pd.Series.max(dataframe[['open', 'close']], axis=1)\n",
        "dataframe['is_high_increase'] = max_open_close.rolling(window=count).apply(lambda x: (x[-1] > x[0]) & (x[-1] > max(x[:-1])), raw=True)\n",
        "\n",
        "# 空單條件檢查 零軸以上的 MACD 柱狀體應該大於 windows 的一半\n",
        "def find_peak_sequence_short_wrapper(data):\n",
        "            if data[-1] < 0:\n",
        "                return False, []\n",
        "            if abs(statistics.mean(x for x in data[-3:-1])) > abs(data[-1]):\n",
        "                return False, []\n",
        "            count = sum(1 for value in data if value > 0)\n",
        "            if count < (len(data) / 2):\n",
        "                return False, []\n",
        "            return find_peak_sequence([n for n in data if n > 0])"
      ],
      "metadata": {
        "id": "wXQ5-5mzk89w"
      },
      "execution_count": 41,
      "outputs": []
    },
    {
      "cell_type": "code",
      "source": [
        "# 空單\n",
        "while True:\n",
        "\n",
        "  df = get_random_count_values_dataframe(dataframe[615796:])\n",
        "  data = df['macdhist'].values.tolist()\n",
        "\n",
        "\n",
        "\n",
        "  isfind, l = find_peak_sequence_short_wrapper(data)\n",
        "\n",
        "\n",
        "  if isfind:\n",
        "    if df['is_high_increase'].values.tolist()[-1]:\n",
        "      print(df)\n",
        "      print(l)\n",
        "      df.set_index('date', inplace=True)\n",
        "\n",
        "      # 建立一個 MACD histogram 的圖像\n",
        "      ap = mpf.make_addplot(df['macdhist'], panel=1, color='g', secondary_y=False)\n",
        "\n",
        "      # 繪製 K 線圖，並添加 MACD histogram\n",
        "      mpf.plot(df, type='candle', style='charles', title='k bar', addplot=ap)\n",
        "\n",
        "      # 顯示圖表\n",
        "      plt.show()\n",
        "\n",
        "      break"
      ],
      "metadata": {
        "colab": {
          "base_uri": "https://localhost:8080/",
          "height": 1000
        },
        "id": "Na0-Ptd1ndl7",
        "outputId": "164d6c49-1e31-4cf7-ffd6-18568b99aa14"
      },
      "execution_count": 42,
      "outputs": [
        {
          "output_type": "stream",
          "name": "stdout",
          "text": [
            "66.76624193330693 16\n",
            "74.67518370876115 15\n",
            "46.192607289741986 14\n",
            "877.2243854892178 11\n",
            "13.367140800486013 10\n",
            "46.67660601864061 24\n",
            "82.25147513124165 18\n",
            "91.77704534455938 14\n",
            "97.0523055972248 20\n",
            "61.30209596252653 23\n",
            "94.95230246952258 19\n",
            "8.025998634501606 21\n",
            "34.3399848289786 24\n",
            "31.65713260129576 16\n",
            "84.59809024672886 29\n",
            "22.427451708369798 27\n",
            "17.337323151336772 6\n",
            "68.64018479278671 17\n",
            "244.69913849589614 11\n",
            "156.10255666521252 20\n",
            "172.22815704771045 10\n",
            "29.702442560879632 17\n",
            "68.12786889766089 23\n",
            "                      date      open      high       low     close     volume  \\\n",
            "616672 2023-07-04 08:15:00  30956.00  30956.00  30932.55  30950.00   70.46077   \n",
            "616673 2023-07-04 08:20:00  30949.99  30976.42  30949.99  30973.19   65.54030   \n",
            "616674 2023-07-04 08:25:00  30973.20  30973.20  30968.18  30971.41   60.16823   \n",
            "616675 2023-07-04 08:30:00  30971.40  30971.41  30964.13  30968.00   40.22201   \n",
            "616676 2023-07-04 08:35:00  30967.99  30968.00  30967.99  30967.99   22.03105   \n",
            "616677 2023-07-04 08:40:00  30967.99  30968.00  30950.19  30953.06   69.33448   \n",
            "616678 2023-07-04 08:45:00  30953.06  30953.07  30912.23  30919.99  120.85170   \n",
            "616679 2023-07-04 08:50:00  30919.99  30942.99  30916.00  30926.89  138.21896   \n",
            "616680 2023-07-04 08:55:00  30926.88  30940.00  30910.00  30930.76  181.31831   \n",
            "616681 2023-07-04 09:00:00  30930.75  30934.00  30890.00  30890.01  170.21179   \n",
            "616682 2023-07-04 09:05:00  30890.01  30948.33  30867.68  30944.45  142.42476   \n",
            "616683 2023-07-04 09:10:00  30944.45  31002.51  30944.44  31002.50  107.35429   \n",
            "616684 2023-07-04 09:15:00  31002.51  31045.00  31002.50  31016.01  187.31840   \n",
            "616685 2023-07-04 09:20:00  31016.00  31028.54  30987.28  31027.99  109.87944   \n",
            "616686 2023-07-04 09:25:00  31027.99  31034.55  31020.60  31020.61   74.46087   \n",
            "616687 2023-07-04 09:30:00  31020.61  31020.61  31005.40  31005.41   60.74340   \n",
            "616688 2023-07-04 09:35:00  31005.41  31006.10  30940.83  30959.99  191.45406   \n",
            "616689 2023-07-04 09:40:00  30959.99  30985.14  30944.14  30977.64  108.41970   \n",
            "616690 2023-07-04 09:45:00  30977.63  30993.11  30965.00  30993.11   51.47214   \n",
            "616691 2023-07-04 09:50:00  30993.11  31010.00  30993.10  31010.00   47.41966   \n",
            "616692 2023-07-04 09:55:00  31009.99  31020.67  31000.47  31016.91   74.85012   \n",
            "616693 2023-07-04 10:00:00  31016.92  31020.85  31010.09  31020.84   60.43837   \n",
            "616694 2023-07-04 10:05:00  31020.84  31030.37  31014.83  31026.79   51.93301   \n",
            "616695 2023-07-04 10:10:00  31026.79  31039.06  31017.53  31017.53   76.23854   \n",
            "616696 2023-07-04 10:15:00  31017.54  31017.54  31005.14  31006.60   47.42768   \n",
            "616697 2023-07-04 10:20:00  31006.59  31006.60  30998.42  31003.70   59.94891   \n",
            "616698 2023-07-04 10:25:00  31003.69  31005.49  30999.99  30999.99   50.01616   \n",
            "616699 2023-07-04 10:30:00  31000.00  31005.90  30966.00  30967.55  125.26513   \n",
            "616700 2023-07-04 10:35:00  30967.55  31042.00  30946.00  30946.01  217.49257   \n",
            "616701 2023-07-04 10:40:00  30946.01  31040.00  30946.00  31034.00  145.01315   \n",
            "616702 2023-07-04 10:45:00  31034.00  31051.92  31030.01  31050.34   52.90929   \n",
            "616703 2023-07-04 10:50:00  31050.33  31050.34  31036.83  31036.84   53.09091   \n",
            "616704 2023-07-04 10:55:00  31036.83  31049.21  31020.00  31025.64   76.45452   \n",
            "616705 2023-07-04 11:00:00  31025.63  31025.64  31014.45  31014.45   29.49848   \n",
            "616706 2023-07-04 11:05:00  31014.46  31014.46  31011.37  31014.30   41.16023   \n",
            "616707 2023-07-04 11:10:00  31014.31  31014.31  31008.00  31008.01   27.66250   \n",
            "616708 2023-07-04 11:15:00  31008.01  31010.34  31000.73  31002.89   58.63906   \n",
            "616709 2023-07-04 11:20:00  31002.89  31022.00  31002.89  31021.99   23.31761   \n",
            "616710 2023-07-04 11:25:00  31022.00  31048.06  31018.65  31048.05   59.56586   \n",
            "616711 2023-07-04 11:30:00  31048.06  31079.99  31038.00  31064.97  157.53714   \n",
            "\n",
            "         macdhist  is_low_decreasing  is_high_increase  \n",
            "616672  -0.658230                0.0               0.0  \n",
            "616673   1.789871                0.0               0.0  \n",
            "616674   3.400658                0.0               0.0  \n",
            "616675   4.280450                0.0               0.0  \n",
            "616676   4.874285                0.0               0.0  \n",
            "616677   4.225535                0.0               0.0  \n",
            "616678   1.551759                0.0               0.0  \n",
            "616679   0.427054                0.0               0.0  \n",
            "616680   0.145900                0.0               0.0  \n",
            "616681  -2.637145                1.0               0.0  \n",
            "616682  -0.381165                0.0               0.0  \n",
            "616683   5.279573                0.0               0.0  \n",
            "616684   9.824647                0.0               0.0  \n",
            "616685  13.323389                0.0               0.0  \n",
            "616686  14.639265                0.0               0.0  \n",
            "616687  13.924641                0.0               0.0  \n",
            "616688   9.834359                0.0               0.0  \n",
            "616689   8.054000                0.0               0.0  \n",
            "616690   7.684377                0.0               0.0  \n",
            "616691   8.328258                0.0               0.0  \n",
            "616692   8.900552                0.0               0.0  \n",
            "616693   9.181993                0.0               0.0  \n",
            "616694   9.386277                0.0               0.0  \n",
            "616695   8.473207                0.0               0.0  \n",
            "616696   6.750382                0.0               0.0  \n",
            "616697   5.120983                0.0               0.0  \n",
            "616698   3.561241                0.0               0.0  \n",
            "616699   0.140692                0.0               0.0  \n",
            "616700  -3.582152                0.0               0.0  \n",
            "616701   0.183187                0.0               1.0  \n",
            "616702   3.707367                0.0               1.0  \n",
            "616703   4.865178                0.0               0.0  \n",
            "616704   4.590846                0.0               0.0  \n",
            "616705   3.396098                0.0               0.0  \n",
            "616706   2.411399                0.0               0.0  \n",
            "616707   1.181747                0.0               0.0  \n",
            "616708  -0.072766                0.0               0.0  \n",
            "616709   0.373892                0.0               0.0  \n",
            "616710   2.377002                0.0               0.0  \n",
            "616711   4.665846                0.0               1.0  \n",
            "[(11, 14.639264651291985), (19, 9.386276733312084), (34, 4.665845622078168)]\n"
          ]
        },
        {
          "output_type": "display_data",
          "data": {
            "text/plain": [
              "<Figure size 800x575 with 4 Axes>"
            ],
            "image/png": "[encoded data removed]"
          },
          "metadata": {}
        }
      ]
    }
  ]
}