{
  "nbformat": 4,
  "nbformat_minor": 0,
  "metadata": {
    "colab": {
      "provenance": [],
      "mount_file_id": "1BwpTyyXZPpBCCERuGr5e48hit9cd_LkX",
      "authorship_tag": "ABX9TyPFACZzkgcfCgZTxC7EiAwP",
      "include_colab_link": true
    },
    "kernelspec": {
      "name": "python3",
      "display_name": "Python 3"
    },
    "language_info": {
      "name": "python"
    }
  },
  "cells": [
    {
      "cell_type": "markdown",
      "metadata": {
        "id": "view-in-github",
        "colab_type": "text"
      },
      "source": [
        "<a href=\"https://colab.research.google.com/github/tc3oliver/StratLabFreq/blob/dev/MACD_Divergence_Analysis.ipynb\" target=\"_parent\"><img src=\"https://colab.research.google.com/assets/colab-badge.svg\" alt=\"Open In Colab\"/></a>"
      ]
    },
    {
      "cell_type": "code",
      "execution_count": 4,
      "metadata": {
        "colab": {
          "base_uri": "https://localhost:8080/"
        },
        "id": "21lKqjEEaXAB",
        "outputId": "06b7ef59-0626-47de-d2e7-47f1aa71dc2a"
      },
      "outputs": [
        {
          "output_type": "stream",
          "name": "stdout",
          "text": [
            "AAVE_USDT_USDT-5m-futures.json       HBAR_USDT_USDT-5m-futures.json\n",
            "AAVE_USDT_USDT-8h-funding_rate.json  HBAR_USDT_USDT-8h-funding_rate.json\n",
            "AAVE_USDT_USDT-8h-mark.json          HBAR_USDT_USDT-8h-mark.json\n",
            "ADA_USDT_USDT-5m-futures.json        ICP_USDT_USDT-5m-futures.json\n",
            "ADA_USDT_USDT-8h-funding_rate.json   ICP_USDT_USDT-8h-funding_rate.json\n",
            "ADA_USDT_USDT-8h-mark.json           ICP_USDT_USDT-8h-mark.json\n",
            "ALGO_USDT_USDT-5m-futures.json       KLAY_USDT_USDT-5m-futures.json\n",
            "ALGO_USDT_USDT-8h-funding_rate.json  KLAY_USDT_USDT-8h-funding_rate.json\n",
            "ALGO_USDT_USDT-8h-mark.json          KLAY_USDT_USDT-8h-mark.json\n",
            "APE_USDT_USDT-5m-futures.json        LDO_USDT_USDT-5m-futures.json\n",
            "APE_USDT_USDT-8h-funding_rate.json   LDO_USDT_USDT-8h-funding_rate.json\n",
            "APE_USDT_USDT-8h-mark.json           LDO_USDT_USDT-8h-mark.json\n",
            "APT_USDT_USDT-5m-futures.json        LINK_USDT_USDT-5m-futures.json\n",
            "APT_USDT_USDT-8h-funding_rate.json   LINK_USDT_USDT-8h-funding_rate.json\n",
            "APT_USDT_USDT-8h-mark.json           LINK_USDT_USDT-8h-mark.json\n",
            "ATOM_USDT_USDT-5m-futures.json       LTC_USDT_USDT-5m-futures.json\n",
            "ATOM_USDT_USDT-8h-funding_rate.json  LTC_USDT_USDT-8h-funding_rate.json\n",
            "ATOM_USDT_USDT-8h-mark.json          LTC_USDT_USDT-8h-mark.json\n",
            "AVAX_USDT_USDT-5m-futures.json       MANA_USDT_USDT-5m-futures.json\n",
            "AVAX_USDT_USDT-8h-funding_rate.json  MANA_USDT_USDT-8h-funding_rate.json\n",
            "AVAX_USDT_USDT-8h-mark.json          MANA_USDT_USDT-8h-mark.json\n",
            "AXS_USDT_USDT-5m-futures.json        MATIC_USDT_USDT-5m-futures.json\n",
            "AXS_USDT_USDT-8h-funding_rate.json   MATIC_USDT_USDT-8h-funding_rate.json\n",
            "AXS_USDT_USDT-8h-mark.json           MATIC_USDT_USDT-8h-mark.json\n",
            "BCH_USDT_USDT-5m-futures.json        MKR_USDT_USDT-5m-futures.json\n",
            "BCH_USDT_USDT-8h-funding_rate.json   MKR_USDT_USDT-8h-funding_rate.json\n",
            "BCH_USDT_USDT-8h-mark.json           MKR_USDT_USDT-8h-mark.json\n",
            "BTC_USDT_USDT-5m-futures.json        NEAR_USDT_USDT-5m-futures.json\n",
            "BTC_USDT_USDT-8h-funding_rate.json   NEAR_USDT_USDT-8h-funding_rate.json\n",
            "BTC_USDT_USDT-8h-mark.json           NEAR_USDT_USDT-8h-mark.json\n",
            "CHZ_USDT_USDT-5m-futures.json        QNT_USDT_USDT-5m-futures.json\n",
            "CHZ_USDT_USDT-8h-funding_rate.json   QNT_USDT_USDT-8h-funding_rate.json\n",
            "CHZ_USDT_USDT-8h-mark.json           QNT_USDT_USDT-8h-mark.json\n",
            "DASH_USDT_USDT-5m-futures.json       SAND_USDT_USDT-5m-futures.json\n",
            "DASH_USDT_USDT-8h-funding_rate.json  SAND_USDT_USDT-8h-funding_rate.json\n",
            "DASH_USDT_USDT-8h-mark.json          SAND_USDT_USDT-8h-mark.json\n",
            "DOGE_USDT_USDT-5m-futures.json       SOL_USDT_USDT-5m-futures.json\n",
            "DOGE_USDT_USDT-8h-funding_rate.json  SOL_USDT_USDT-8h-funding_rate.json\n",
            "DOGE_USDT_USDT-8h-mark.json          SOL_USDT_USDT-8h-mark.json\n",
            "DOT_USDT_USDT-5m-futures.json        THETA_USDT_USDT-5m-futures.json\n",
            "DOT_USDT_USDT-8h-funding_rate.json   THETA_USDT_USDT-8h-funding_rate.json\n",
            "DOT_USDT_USDT-8h-mark.json           THETA_USDT_USDT-8h-mark.json\n",
            "EGLD_USDT_USDT-5m-futures.json       TRX_USDT_USDT-5m-futures.json\n",
            "EGLD_USDT_USDT-8h-funding_rate.json  TRX_USDT_USDT-8h-funding_rate.json\n",
            "EGLD_USDT_USDT-8h-mark.json          TRX_USDT_USDT-8h-mark.json\n",
            "EOS_USDT_USDT-5m-futures.json        UNI_USDT_USDT-5m-futures.json\n",
            "EOS_USDT_USDT-8h-funding_rate.json   UNI_USDT_USDT-8h-funding_rate.json\n",
            "EOS_USDT_USDT-8h-mark.json           UNI_USDT_USDT-8h-mark.json\n",
            "ETC_USDT_USDT-5m-futures.json        VET_USDT_USDT-5m-futures.json\n",
            "ETC_USDT_USDT-8h-funding_rate.json   VET_USDT_USDT-8h-funding_rate.json\n",
            "ETC_USDT_USDT-8h-mark.json           VET_USDT_USDT-8h-mark.json\n",
            "ETH_USDT_USDT-5m-futures.json        XLM_USDT_USDT-5m-futures.json\n",
            "ETH_USDT_USDT-8h-funding_rate.json   XLM_USDT_USDT-8h-funding_rate.json\n",
            "ETH_USDT_USDT-8h-mark.json           XLM_USDT_USDT-8h-mark.json\n",
            "FIL_USDT_USDT-5m-futures.json        XMR_USDT_USDT-5m-futures.json\n",
            "FIL_USDT_USDT-8h-funding_rate.json   XMR_USDT_USDT-8h-funding_rate.json\n",
            "FIL_USDT_USDT-8h-mark.json           XMR_USDT_USDT-8h-mark.json\n",
            "FLOW_USDT_USDT-5m-futures.json       XRP_USDT_USDT-5m-futures.json\n",
            "FLOW_USDT_USDT-8h-funding_rate.json  XRP_USDT_USDT-8h-funding_rate.json\n",
            "FLOW_USDT_USDT-8h-mark.json          XRP_USDT_USDT-8h-mark.json\n",
            "FTM_USDT_USDT-5m-futures.json        XTZ_USDT_USDT-5m-futures.json\n",
            "FTM_USDT_USDT-8h-funding_rate.json   XTZ_USDT_USDT-8h-funding_rate.json\n",
            "FTM_USDT_USDT-8h-mark.json           XTZ_USDT_USDT-8h-mark.json\n",
            "GRT_USDT_USDT-5m-futures.json        ZEC_USDT_USDT-5m-futures.json\n",
            "GRT_USDT_USDT-8h-funding_rate.json   ZEC_USDT_USDT-8h-funding_rate.json\n",
            "GRT_USDT_USDT-8h-mark.json           ZEC_USDT_USDT-8h-mark.json\n"
          ]
        }
      ],
      "source": [
        "ls /content/drive/MyDrive/Colab\\ Notebooks/StratLabFreq/data/futures"
      ]
    },
    {
      "cell_type": "code",
      "source": [],
      "metadata": {
        "id": "4tTbsldbbrCt"
      },
      "execution_count": 1,
      "outputs": []
    },
    {
      "cell_type": "code",
      "source": [],
      "metadata": {
        "id": "W1mxpPXbcJHC"
      },
      "execution_count": 1,
      "outputs": []
    },
    {
      "cell_type": "code",
      "source": [],
      "metadata": {
        "id": "bMMMSYLrdCRF"
      },
      "execution_count": 1,
      "outputs": []
    }
  ]
}