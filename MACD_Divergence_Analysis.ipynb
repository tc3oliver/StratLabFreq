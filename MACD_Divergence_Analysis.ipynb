{
  "nbformat": 4,
  "nbformat_minor": 0,
  "metadata": {
    "colab": {
      "provenance": [],
      "toc_visible": true,
      "mount_file_id": "1BwpTyyXZPpBCCERuGr5e48hit9cd_LkX",
      "authorship_tag": "ABX9TyNGItWxL49utaKqu4Gqw/Xe",
      "include_colab_link": true
    },
    "kernelspec": {
      "name": "python3",
      "display_name": "Python 3"
    },
    "language_info": {
      "name": "python"
    }
  },
  "cells": [
    {
      "cell_type": "markdown",
      "metadata": {
        "id": "view-in-github",
        "colab_type": "text"
      },
      "source": [
        "<a href=\"https://colab.research.google.com/github/tc3oliver/StratLabFreq/blob/dev/MACD_Divergence_Analysis.ipynb\" target=\"_parent\"><img src=\"https://colab.research.google.com/assets/colab-badge.svg\" alt=\"Open In Colab\"/></a>"
      ]
    },
    {
      "cell_type": "code",
      "execution_count": 1,
      "metadata": {
        "colab": {
          "base_uri": "https://localhost:8080/"
        },
        "id": "21lKqjEEaXAB",
        "outputId": "b739157e-f5b7-465c-c5df-25ccb7d7a649"
      },
      "outputs": [
        {
          "output_type": "execute_result",
          "data": {
            "text/plain": [
              "['data', 'TaipeiSansTCBeta-Regular.ttf', 'MACD_Divergence_Analysis.ipynb']"
            ]
          },
          "metadata": {},
          "execution_count": 1
        }
      ],
      "source": [
        "import os\n",
        "os.chdir('/content/drive/MyDrive/Colab Notebooks/StratLabFreq')\n",
        "os.listdir()"
      ]
    },
    {
      "cell_type": "code",
      "source": [
        "import pandas as pd"
      ],
      "metadata": {
        "id": "4tTbsldbbrCt"
      },
      "execution_count": 2,
      "outputs": []
    },
    {
      "cell_type": "code",
      "source": [
        "dataframe = pd.read_json('./data/BTC_USDT-5m.json')\n",
        "dataframe.columns=['date', 'open' , 'high', 'low', 'close', 'volume' ]\n",
        "dataframe['date']=(pd.to_datetime(dataframe['date'],unit='ms'))\n",
        "dataframe"
      ],
      "metadata": {
        "colab": {
          "base_uri": "https://localhost:8080/",
          "height": 424
        },
        "id": "W1mxpPXbcJHC",
        "outputId": "24266e39-553d-4ae1-a99c-bf090b5a3d0f"
      },
      "execution_count": 3,
      "outputs": [
        {
          "output_type": "execute_result",
          "data": {
            "text/plain": [
              "                      date      open      high       low     close      volume\n",
              "0      2017-08-17 04:00:00   4261.48   4280.56   4261.48   4261.48    2.189061\n",
              "1      2017-08-17 04:05:00   4261.48   4261.48   4261.48   4261.48    0.000000\n",
              "2      2017-08-17 04:10:00   4261.48   4261.48   4261.48   4261.48    0.000000\n",
              "3      2017-08-17 04:15:00   4261.48   4264.88   4261.48   4261.48    0.484666\n",
              "4      2017-08-17 04:20:00   4264.88   4266.29   4264.88   4266.29    2.328570\n",
              "...                    ...       ...       ...       ...       ...         ...\n",
              "617219 2023-07-06 05:50:00  30549.80  30569.99  30549.80  30563.11  105.865190\n",
              "617220 2023-07-06 05:55:00  30563.11  30593.64  30563.11  30582.51   71.446400\n",
              "617221 2023-07-06 06:00:00  30582.50  30599.30  30573.33  30575.48   88.509370\n",
              "617222 2023-07-06 06:05:00  30575.48  30575.48  30560.00  30570.04   58.483620\n",
              "617223 2023-07-06 06:10:00  30570.03  30570.04  30561.50  30565.59   47.813710\n",
              "\n",
              "[617224 rows x 6 columns]"
            ],
            "text/html": [
              "\n",
              "\n",
              "  <div id=\"df-62a528b8-e070-4da0-8c2f-57b9c1a8442d\">\n",
              "    <div class=\"colab-df-container\">\n",
              "      <div>\n",
              "<style scoped>\n",
              "    .dataframe tbody tr th:only-of-type {\n",
              "        vertical-align: middle;\n",
              "    }\n",
              "\n",
              "    .dataframe tbody tr th {\n",
              "        vertical-align: top;\n",
              "    }\n",
              "\n",
              "    .dataframe thead th {\n",
              "        text-align: right;\n",
              "    }\n",
              "</style>\n",
              "<table border=\"1\" class=\"dataframe\">\n",
              "  <thead>\n",
              "    <tr style=\"text-align: right;\">\n",
              "      <th></th>\n",
              "      <th>date</th>\n",
              "      <th>open</th>\n",
              "      <th>high</th>\n",
              "      <th>low</th>\n",
              "      <th>close</th>\n",
              "      <th>volume</th>\n",
              "    </tr>\n",
              "  </thead>\n",
              "  <tbody>\n",
              "    <tr>\n",
              "      <th>0</th>\n",
              "      <td>2017-08-17 04:00:00</td>\n",
              "      <td>4261.48</td>\n",
              "      <td>4280.56</td>\n",
              "      <td>4261.48</td>\n",
              "      <td>4261.48</td>\n",
              "      <td>2.189061</td>\n",
              "    </tr>\n",
              "    <tr>\n",
              "      <th>1</th>\n",
              "      <td>2017-08-17 04:05:00</td>\n",
              "      <td>4261.48</td>\n",
              "      <td>4261.48</td>\n",
              "      <td>4261.48</td>\n",
              "      <td>4261.48</td>\n",
              "      <td>0.000000</td>\n",
              "    </tr>\n",
              "    <tr>\n",
              "      <th>2</th>\n",
              "      <td>2017-08-17 04:10:00</td>\n",
              "      <td>4261.48</td>\n",
              "      <td>4261.48</td>\n",
              "      <td>4261.48</td>\n",
              "      <td>4261.48</td>\n",
              "      <td>0.000000</td>\n",
              "    </tr>\n",
              "    <tr>\n",
              "      <th>3</th>\n",
              "      <td>2017-08-17 04:15:00</td>\n",
              "      <td>4261.48</td>\n",
              "      <td>4264.88</td>\n",
              "      <td>4261.48</td>\n",
              "      <td>4261.48</td>\n",
              "      <td>0.484666</td>\n",
              "    </tr>\n",
              "    <tr>\n",
              "      <th>4</th>\n",
              "      <td>2017-08-17 04:20:00</td>\n",
              "      <td>4264.88</td>\n",
              "      <td>4266.29</td>\n",
              "      <td>4264.88</td>\n",
              "      <td>4266.29</td>\n",
              "      <td>2.328570</td>\n",
              "    </tr>\n",
              "    <tr>\n",
              "      <th>...</th>\n",
              "      <td>...</td>\n",
              "      <td>...</td>\n",
              "      <td>...</td>\n",
              "      <td>...</td>\n",
              "      <td>...</td>\n",
              "      <td>...</td>\n",
              "    </tr>\n",
              "    <tr>\n",
              "      <th>617219</th>\n",
              "      <td>2023-07-06 05:50:00</td>\n",
              "      <td>30549.80</td>\n",
              "      <td>30569.99</td>\n",
              "      <td>30549.80</td>\n",
              "      <td>30563.11</td>\n",
              "      <td>105.865190</td>\n",
              "    </tr>\n",
              "    <tr>\n",
              "      <th>617220</th>\n",
              "      <td>2023-07-06 05:55:00</td>\n",
              "      <td>30563.11</td>\n",
              "      <td>30593.64</td>\n",
              "      <td>30563.11</td>\n",
              "      <td>30582.51</td>\n",
              "      <td>71.446400</td>\n",
              "    </tr>\n",
              "    <tr>\n",
              "      <th>617221</th>\n",
              "      <td>2023-07-06 06:00:00</td>\n",
              "      <td>30582.50</td>\n",
              "      <td>30599.30</td>\n",
              "      <td>30573.33</td>\n",
              "      <td>30575.48</td>\n",
              "      <td>88.509370</td>\n",
              "    </tr>\n",
              "    <tr>\n",
              "      <th>617222</th>\n",
              "      <td>2023-07-06 06:05:00</td>\n",
              "      <td>30575.48</td>\n",
              "      <td>30575.48</td>\n",
              "      <td>30560.00</td>\n",
              "      <td>30570.04</td>\n",
              "      <td>58.483620</td>\n",
              "    </tr>\n",
              "    <tr>\n",
              "      <th>617223</th>\n",
              "      <td>2023-07-06 06:10:00</td>\n",
              "      <td>30570.03</td>\n",
              "      <td>30570.04</td>\n",
              "      <td>30561.50</td>\n",
              "      <td>30565.59</td>\n",
              "      <td>47.813710</td>\n",
              "    </tr>\n",
              "  </tbody>\n",
              "</table>\n",
              "<p>617224 rows × 6 columns</p>\n",
              "</div>\n",
              "      <button class=\"colab-df-convert\" onclick=\"convertToInteractive('df-62a528b8-e070-4da0-8c2f-57b9c1a8442d')\"\n",
              "              title=\"Convert this dataframe to an interactive table.\"\n",
              "              style=\"display:none;\">\n",
              "\n",
              "  <svg xmlns=\"http://www.w3.org/2000/svg\" height=\"24px\"viewBox=\"0 0 24 24\"\n",
              "       width=\"24px\">\n",
              "    <path d=\"M0 0h24v24H0V0z\" fill=\"none\"/>\n",
              "    <path d=\"M18.56 5.44l.94 2.06.94-2.06 2.06-.94-2.06-.94-.94-2.06-.94 2.06-2.06.94zm-11 1L8.5 8.5l.94-2.06 2.06-.94-2.06-.94L8.5 2.5l-.94 2.06-2.06.94zm10 10l.94 2.06.94-2.06 2.06-.94-2.06-.94-.94-2.06-.94 2.06-2.06.94z\"/><path d=\"M17.41 7.96l-1.37-1.37c-.4-.4-.92-.59-1.43-.59-.52 0-1.04.2-1.43.59L10.3 9.45l-7.72 7.72c-.78.78-.78 2.05 0 2.83L4 21.41c.39.39.9.59 1.41.59.51 0 1.02-.2 1.41-.59l7.78-7.78 2.81-2.81c.8-.78.8-2.07 0-2.86zM5.41 20L4 18.59l7.72-7.72 1.47 1.35L5.41 20z\"/>\n",
              "  </svg>\n",
              "      </button>\n",
              "\n",
              "\n",
              "\n",
              "    <div id=\"df-27ddfafd-2520-4f85-a47a-004bc45eb2c5\">\n",
              "      <button class=\"colab-df-quickchart\" onclick=\"quickchart('df-27ddfafd-2520-4f85-a47a-004bc45eb2c5')\"\n",
              "              title=\"Suggest charts.\"\n",
              "              style=\"display:none;\">\n",
              "\n",
              "<svg xmlns=\"http://www.w3.org/2000/svg\" height=\"24px\"viewBox=\"0 0 24 24\"\n",
              "     width=\"24px\">\n",
              "    <g>\n",
              "        <path d=\"M19 3H5c-1.1 0-2 .9-2 2v14c0 1.1.9 2 2 2h14c1.1 0 2-.9 2-2V5c0-1.1-.9-2-2-2zM9 17H7v-7h2v7zm4 0h-2V7h2v10zm4 0h-2v-4h2v4z\"/>\n",
              "    </g>\n",
              "</svg>\n",
              "      </button>\n",
              "    </div>\n",
              "\n",
              "<style>\n",
              "  .colab-df-quickchart {\n",
              "    background-color: #E8F0FE;\n",
              "    border: none;\n",
              "    border-radius: 50%;\n",
              "    cursor: pointer;\n",
              "    display: none;\n",
              "    fill: #1967D2;\n",
              "    height: 32px;\n",
              "    padding: 0 0 0 0;\n",
              "    width: 32px;\n",
              "  }\n",
              "\n",
              "  .colab-df-quickchart:hover {\n",
              "    background-color: #E2EBFA;\n",
              "    box-shadow: 0px 1px 2px rgba(60, 64, 67, 0.3), 0px 1px 3px 1px rgba(60, 64, 67, 0.15);\n",
              "    fill: #174EA6;\n",
              "  }\n",
              "\n",
              "  [theme=dark] .colab-df-quickchart {\n",
              "    background-color: #3B4455;\n",
              "    fill: #D2E3FC;\n",
              "  }\n",
              "\n",
              "  [theme=dark] .colab-df-quickchart:hover {\n",
              "    background-color: #434B5C;\n",
              "    box-shadow: 0px 1px 3px 1px rgba(0, 0, 0, 0.15);\n",
              "    filter: drop-shadow(0px 1px 2px rgba(0, 0, 0, 0.3));\n",
              "    fill: #FFFFFF;\n",
              "  }\n",
              "</style>\n",
              "\n",
              "    <script>\n",
              "      async function quickchart(key) {\n",
              "        const containerElement = document.querySelector('#' + key);\n",
              "        const charts = await google.colab.kernel.invokeFunction(\n",
              "            'suggestCharts', [key], {});\n",
              "      }\n",
              "    </script>\n",
              "\n",
              "      <script>\n",
              "\n",
              "function displayQuickchartButton(domScope) {\n",
              "  let quickchartButtonEl =\n",
              "    domScope.querySelector('#df-27ddfafd-2520-4f85-a47a-004bc45eb2c5 button.colab-df-quickchart');\n",
              "  quickchartButtonEl.style.display =\n",
              "    google.colab.kernel.accessAllowed ? 'block' : 'none';\n",
              "}\n",
              "\n",
              "        displayQuickchartButton(document);\n",
              "      </script>\n",
              "      <style>\n",
              "    .colab-df-container {\n",
              "      display:flex;\n",
              "      flex-wrap:wrap;\n",
              "      gap: 12px;\n",
              "    }\n",
              "\n",
              "    .colab-df-convert {\n",
              "      background-color: #E8F0FE;\n",
              "      border: none;\n",
              "      border-radius: 50%;\n",
              "      cursor: pointer;\n",
              "      display: none;\n",
              "      fill: #1967D2;\n",
              "      height: 32px;\n",
              "      padding: 0 0 0 0;\n",
              "      width: 32px;\n",
              "    }\n",
              "\n",
              "    .colab-df-convert:hover {\n",
              "      background-color: #E2EBFA;\n",
              "      box-shadow: 0px 1px 2px rgba(60, 64, 67, 0.3), 0px 1px 3px 1px rgba(60, 64, 67, 0.15);\n",
              "      fill: #174EA6;\n",
              "    }\n",
              "\n",
              "    [theme=dark] .colab-df-convert {\n",
              "      background-color: #3B4455;\n",
              "      fill: #D2E3FC;\n",
              "    }\n",
              "\n",
              "    [theme=dark] .colab-df-convert:hover {\n",
              "      background-color: #434B5C;\n",
              "      box-shadow: 0px 1px 3px 1px rgba(0, 0, 0, 0.15);\n",
              "      filter: drop-shadow(0px 1px 2px rgba(0, 0, 0, 0.3));\n",
              "      fill: #FFFFFF;\n",
              "    }\n",
              "  </style>\n",
              "\n",
              "      <script>\n",
              "        const buttonEl =\n",
              "          document.querySelector('#df-62a528b8-e070-4da0-8c2f-57b9c1a8442d button.colab-df-convert');\n",
              "        buttonEl.style.display =\n",
              "          google.colab.kernel.accessAllowed ? 'block' : 'none';\n",
              "\n",
              "        async function convertToInteractive(key) {\n",
              "          const element = document.querySelector('#df-62a528b8-e070-4da0-8c2f-57b9c1a8442d');\n",
              "          const dataTable =\n",
              "            await google.colab.kernel.invokeFunction('convertToInteractive',\n",
              "                                                     [key], {});\n",
              "          if (!dataTable) return;\n",
              "\n",
              "          const docLinkHtml = 'Like what you see? Visit the ' +\n",
              "            '<a target=\"_blank\" href=https://colab.research.google.com/notebooks/data_table.ipynb>data table notebook</a>'\n",
              "            + ' to learn more about interactive tables.';\n",
              "          element.innerHTML = '';\n",
              "          dataTable['output_type'] = 'display_data';\n",
              "          await google.colab.output.renderOutput(dataTable, element);\n",
              "          const docLink = document.createElement('div');\n",
              "          docLink.innerHTML = docLinkHtml;\n",
              "          element.appendChild(docLink);\n",
              "        }\n",
              "      </script>\n",
              "    </div>\n",
              "  </div>\n"
            ]
          },
          "metadata": {},
          "execution_count": 3
        }
      ]
    },
    {
      "cell_type": "code",
      "source": [
        "!pip install mplfinance"
      ],
      "metadata": {
        "colab": {
          "base_uri": "https://localhost:8080/"
        },
        "id": "bMMMSYLrdCRF",
        "outputId": "cb37c07c-5de3-423f-f334-d73c4bff65c0"
      },
      "execution_count": 4,
      "outputs": [
        {
          "output_type": "stream",
          "name": "stdout",
          "text": [
            "Collecting mplfinance\n",
            "  Downloading mplfinance-0.12.9b7-py3-none-any.whl (73 kB)\n",
            "\u001b[?25l     \u001b[90m━━━━━━━━━━━━━━━━━━━━━━━━━━━━━━━━━━━━━━━━\u001b[0m \u001b[32m0.0/73.1 kB\u001b[0m \u001b[31m?\u001b[0m eta \u001b[36m-:--:--\u001b[0m\r\u001b[2K     \u001b[91m━━━━━━━━━━━━━━━━━━━━━━━━━━━━━━━━━━━━━━━\u001b[0m\u001b[90m╺\u001b[0m \u001b[32m71.7/73.1 kB\u001b[0m \u001b[31m2.4 MB/s\u001b[0m eta \u001b[36m0:00:01\u001b[0m\r\u001b[2K     \u001b[90m━━━━━━━━━━━━━━━━━━━━━━━━━━━━━━━━━━━━━━━━\u001b[0m \u001b[32m73.1/73.1 kB\u001b[0m \u001b[31m1.9 MB/s\u001b[0m eta \u001b[36m0:00:00\u001b[0m\n",
            "\u001b[?25hRequirement already satisfied: matplotlib in /usr/local/lib/python3.10/dist-packages (from mplfinance) (3.7.1)\n",
            "Requirement already satisfied: pandas in /usr/local/lib/python3.10/dist-packages (from mplfinance) (1.5.3)\n",
            "Requirement already satisfied: contourpy>=1.0.1 in /usr/local/lib/python3.10/dist-packages (from matplotlib->mplfinance) (1.1.0)\n",
            "Requirement already satisfied: cycler>=0.10 in /usr/local/lib/python3.10/dist-packages (from matplotlib->mplfinance) (0.11.0)\n",
            "Requirement already satisfied: fonttools>=4.22.0 in /usr/local/lib/python3.10/dist-packages (from matplotlib->mplfinance) (4.41.0)\n",
            "Requirement already satisfied: kiwisolver>=1.0.1 in /usr/local/lib/python3.10/dist-packages (from matplotlib->mplfinance) (1.4.4)\n",
            "Requirement already satisfied: numpy>=1.20 in /usr/local/lib/python3.10/dist-packages (from matplotlib->mplfinance) (1.22.4)\n",
            "Requirement already satisfied: packaging>=20.0 in /usr/local/lib/python3.10/dist-packages (from matplotlib->mplfinance) (23.1)\n",
            "Requirement already satisfied: pillow>=6.2.0 in /usr/local/lib/python3.10/dist-packages (from matplotlib->mplfinance) (8.4.0)\n",
            "Requirement already satisfied: pyparsing>=2.3.1 in /usr/local/lib/python3.10/dist-packages (from matplotlib->mplfinance) (3.1.0)\n",
            "Requirement already satisfied: python-dateutil>=2.7 in /usr/local/lib/python3.10/dist-packages (from matplotlib->mplfinance) (2.8.2)\n",
            "Requirement already satisfied: pytz>=2020.1 in /usr/local/lib/python3.10/dist-packages (from pandas->mplfinance) (2022.7.1)\n",
            "Requirement already satisfied: six>=1.5 in /usr/local/lib/python3.10/dist-packages (from python-dateutil>=2.7->matplotlib->mplfinance) (1.16.0)\n",
            "Installing collected packages: mplfinance\n",
            "Successfully installed mplfinance-0.12.9b7\n"
          ]
        }
      ]
    },
    {
      "cell_type": "code",
      "source": [
        "%matplotlib inline\n",
        "import pandas as pd\n",
        "import matplotlib.pyplot as plt\n",
        "import mplfinance as mpf\n",
        "import matplotlib.font_manager as fm\n",
        "import matplotlib as mpl\n",
        "\n",
        "# 下載字體\n",
        "# !wget https://drive.google.com/uc?id=1eGAsTN1HBpJAkeVM57_C7ccp7hbgSz3_&export=download -O TaipeiSansTCBeta-Regular.ttf\n",
        "\n",
        "# 註冊字體\n",
        "# font_path = 'TaipeiSansTCBeta-Regular.ttf'\n",
        "# prop = fm.FontProperties(fname=font_path)\n",
        "# 設定 matplotlib 字體\n",
        "# mpl.rcParams['font.family'] = prop.get_name()\n",
        "# font={'font.family': prop.get_name()}\n",
        "# style=mpf.make_mpf_style(base_mpf_style='default', rc=font)"
      ],
      "metadata": {
        "id": "zpz4lY9dk2j2"
      },
      "execution_count": 5,
      "outputs": []
    },
    {
      "cell_type": "code",
      "source": [
        "import random\n",
        "\n",
        "count = 40\n",
        "\n",
        "def get_random_count_values_dataframe(df):\n",
        "    if len(df) < count:\n",
        "        raise ValueError(\"DataFrame 中的資料數量不足 40 個\")\n",
        "\n",
        "    start_index = random.randint(0, len(df) - count)\n",
        "\n",
        "    selected_values = df.iloc[start_index : start_index + count]\n",
        "\n",
        "    selected_df = pd.DataFrame(selected_values)\n",
        "\n",
        "    return selected_df"
      ],
      "metadata": {
        "id": "ei9s-g44D_9B"
      },
      "execution_count": 6,
      "outputs": []
    },
    {
      "cell_type": "code",
      "source": [
        "df = get_random_count_values_dataframe(dataframe)\n",
        "\n",
        "# 將索引設定為 DatetimeIndex\n",
        "df.set_index('date', inplace=True)\n",
        "\n",
        "# 繪製 K 線圖\n",
        "mpf.plot(df, type='candle', style='charles', title='k bar')\n",
        "\n",
        "# 顯示圖表\n",
        "plt.show()"
      ],
      "metadata": {
        "colab": {
          "base_uri": "https://localhost:8080/",
          "height": 591
        },
        "id": "QmE02njrFce9",
        "outputId": "bf3849e5-9993-4b01-b499-19b99248b4fa"
      },
      "execution_count": 7,
      "outputs": [
        {
          "output_type": "display_data",
          "data": {
            "text/plain": [
              "<Figure size 800x575 with 2 Axes>"
            ],
            "image/png": "[encoded data removed]"
          },
          "metadata": {}
        }
      ]
    },
    {
      "cell_type": "code",
      "source": [
        "url = 'https://anaconda.org/conda-forge/libta-lib/0.4.0/download/linux-64/libta-lib-0.4.0-h166bdaf_1.tar.bz2'\n",
        "!curl -L $url | tar xj -C /usr/lib/x86_64-linux-gnu/ lib --strip-components=1\n",
        "url = 'https://anaconda.org/conda-forge/ta-lib/0.4.19/download/linux-64/ta-lib-0.4.19-py310hde88566_4.tar.bz2'\n",
        "!curl -L $url | tar xj -C /usr/local/lib/python3.10/dist-packages/ lib/python3.10/site-packages/talib --strip-components=3\n",
        "import talib\n"
      ],
      "metadata": {
        "colab": {
          "base_uri": "https://localhost:8080/"
        },
        "id": "csyR88lsg57A",
        "outputId": "9062ee70-3f2b-4630-a889-03e32a2133b7"
      },
      "execution_count": 8,
      "outputs": [
        {
          "output_type": "stream",
          "name": "stdout",
          "text": [
            "  % Total    % Received % Xferd  Average Speed   Time    Time     Time  Current\n",
            "                                 Dload  Upload   Total   Spent    Left  Speed\n",
            "100  4287    0  4287    0     0   7912      0 --:--:-- --:--:-- --:--:--  7909\n",
            "100  517k  100  517k    0     0   368k      0  0:00:01  0:00:01 --:--:-- 3228k\n",
            "  % Total    % Received % Xferd  Average Speed   Time    Time     Time  Current\n",
            "                                 Dload  Upload   Total   Spent    Left  Speed\n",
            "100  4291    0  4291    0     0  15265      0 --:--:-- --:--:-- --:--:-- 15325\n",
            "100  392k  100  392k    0     0   380k      0  0:00:01  0:00:01 --:--:-- 2253k\n"
          ]
        }
      ]
    },
    {
      "cell_type": "code",
      "source": [
        "import talib.abstract as ta"
      ],
      "metadata": {
        "id": "ryr66KXYFhKA"
      },
      "execution_count": 9,
      "outputs": []
    },
    {
      "cell_type": "code",
      "source": [
        "macd = ta.MACD(dataframe, fastperiod=13, slowperiod=34)\n",
        "dataframe['macdhist'] = macd['macdhist']"
      ],
      "metadata": {
        "id": "P6MoH22jGYBR"
      },
      "execution_count": 10,
      "outputs": []
    },
    {
      "cell_type": "code",
      "source": [
        "# new\n",
        "import statistics\n",
        "\n",
        "# 尋找三個峰值且這些波峰連續升高\n",
        "def find_peak_sequence(data):\n",
        "    peaks_index = []\n",
        "    wave = []\n",
        "\n",
        "    for i in range(len(data)):\n",
        "        if i == len(data) - 1:\n",
        "            break\n",
        "        d = abs(data[i])\n",
        "        if len(wave) == 0 or d > wave[-1]:\n",
        "            wave.append(d)\n",
        "        else:\n",
        "            if len(wave) > 1:\n",
        "                peaks_index.append(i-1)\n",
        "            wave = [d]\n",
        "\n",
        "    if len(wave) > 0:\n",
        "        peaks_index.append(i)\n",
        "\n",
        "    highlighted_points = [(index, data[index]) for index in peaks_index]\n",
        "\n",
        "    temp = highlighted_points[-1]\n",
        "\n",
        "    # new\n",
        "    if abs(statistics.mean(x[1] for x in highlighted_points[-5:-1])) > abs(temp[-1]):\n",
        "      return False, []\n",
        "\n",
        "    highlighted_points = highlighted_points[:-1]\n",
        "\n",
        "    # new\n",
        "    highlighted_points = [n for n in highlighted_points if n[1] < 0]\n",
        "\n",
        "    highlighted_points = sorted(\n",
        "        highlighted_points, key=lambda x: abs(x[1]), reverse=True)[:2]\n",
        "    highlighted_points = sorted(\n",
        "        highlighted_points, key=lambda x: x[0], reverse=False)\n",
        "    highlighted_points.append(temp)\n",
        "\n",
        "    if len(highlighted_points) >= 3:\n",
        "        if abs(highlighted_points[-3][1]) > abs(highlighted_points[-2][1]) > abs(highlighted_points[-1][1]):\n",
        "                return True, highlighted_points\n",
        "\n",
        "    return False, []\n",
        "\n",
        "# 多單條件檢查 零軸以下的 MACD 柱狀體應該大於 windows 的一半\n",
        "def find_peak_sequence_logn_wrapper(data):\n",
        "  if data[-1] > 0:\n",
        "    return False, []\n",
        "  count = sum(1 for value in data if value < 0)\n",
        "  if count < (len(data) / 2):\n",
        "      return False, []\n",
        "  return find_peak_sequence(data)"
      ],
      "metadata": {
        "id": "d0SobtJhkfd8"
      },
      "execution_count": 11,
      "outputs": []
    },
    {
      "cell_type": "code",
      "source": [
        "import numpy as np\n",
        "\n",
        "# dataframe['is_low_decreasing'] = dataframe['high'].rolling(window=count).apply(lambda x: x[-1] < max(x[:-1]), raw=True)\n",
        "# dataframe['is_low_decreasing'] = dataframe['high'].rolling(window=count).apply(lambda x: x[-1] < x[0], raw=True)\n",
        "dataframe['is_low_decreasing'] = dataframe['high'].rolling(window=count).apply(lambda x: (x[-1] < x[0]) & (x[-1] < max(x[:-1])), raw=True)\n"
      ],
      "metadata": {
        "id": "T5HewRd6AvBu"
      },
      "execution_count": 12,
      "outputs": []
    },
    {
      "cell_type": "code",
      "source": [
        "import numpy as np\n",
        "\n",
        "while True:\n",
        "  df = get_random_count_values_dataframe(dataframe)\n",
        "  data = df['macdhist'].values.tolist()\n",
        "\n",
        "  isfind, l = find_peak_sequence_logn_wrapper(data)\n",
        "\n",
        "\n",
        "  if isfind:\n",
        "    print(data)\n",
        "    print(l)\n",
        "    if df['is_low_decreasing'].values.tolist()[-1]:\n",
        "      df.set_index('date', inplace=True)\n",
        "\n",
        "      # 建立一個 MACD histogram 的圖像\n",
        "      ap = mpf.make_addplot(df['macdhist'], panel=1, color='g', secondary_y=False)\n",
        "\n",
        "      # 繪製 K 線圖，並添加 MACD histogram\n",
        "      mpf.plot(df, type='candle', style='charles', title='k bar', addplot=ap)\n",
        "\n",
        "      # 顯示圖表\n",
        "      plt.show()\n",
        "\n",
        "      break"
      ],
      "metadata": {
        "colab": {
          "base_uri": "https://localhost:8080/",
          "height": 609
        },
        "id": "nyBW7GnykuEM",
        "outputId": "733c48ee-8e5d-421a-eb91-fb38d1f33099"
      },
      "execution_count": 13,
      "outputs": [
        {
          "output_type": "stream",
          "name": "stdout",
          "text": [
            "[-4.484053483574193, -4.935903615336649, -4.630277233857662, -4.861424320155486, -4.272039690610832, -3.118157882532394, -3.222484579172857, -2.3118220499057536, -2.183650400713905, -1.8038011326823167, -1.9638011980043117, -2.3554690723279634, -2.492857953585439, -3.1056663720832685, -3.94594946627946, -4.121132539283112, -4.392742917693841, -4.20058706690692, -4.212990027658554, -4.257639874812529, -3.5427538139564625, -3.2806030890794515, -2.6030592783141193, -1.782550134497125, -0.7739384264854463, 0.18198059887551832, 0.4955876958667593, 0.4606310271470413, 0.9828489317213638, 1.553617513382676, 0.952298445441329, 0.9756606292210561, 1.4496279640209107, 1.347849845973716, 0.628660869272565, -0.3830108242248009, -0.9253913723450662, -1.9620410632960485, -2.5663326693436774, -2.955770147298458]\n",
            "[(1, -4.935903615336649), (3, -4.861424320155486), (39, -2.955770147298458)]\n"
          ]
        },
        {
          "output_type": "display_data",
          "data": {
            "text/plain": [
              "<Figure size 800x575 with 4 Axes>"
            ],
            "image/png": "[encoded data removed]"
          },
          "metadata": {}
        }
      ]
    },
    {
      "cell_type": "code",
      "source": [
        "df = get_random_count_values_dataframe(dataframe)\n",
        "df.head()"
      ],
      "metadata": {
        "colab": {
          "base_uri": "https://localhost:8080/",
          "height": 206
        },
        "id": "N84uinksm91L",
        "outputId": "723044db-124c-4ca5-a70d-0ee3d03c65a6"
      },
      "execution_count": 14,
      "outputs": [
        {
          "output_type": "execute_result",
          "data": {
            "text/plain": [
              "                      date      open      high       low     close     volume  \\\n",
              "427421 2021-09-15 02:00:00  47050.73  47109.80  47020.78  47050.38  107.12147   \n",
              "427422 2021-09-15 02:05:00  47050.39  47050.39  46974.66  46988.57  122.11424   \n",
              "427423 2021-09-15 02:10:00  46988.57  47037.86  46972.58  47022.84   85.12331   \n",
              "427424 2021-09-15 02:15:00  47022.84  47037.00  46999.66  47005.95   69.67674   \n",
              "427425 2021-09-15 02:20:00  47005.96  47069.01  46999.27  47039.20   65.56174   \n",
              "\n",
              "         macdhist  is_low_decreasing  \n",
              "427421 -40.741127                1.0  \n",
              "427422 -43.376384                1.0  \n",
              "427423 -41.162419                1.0  \n",
              "427424 -39.353597                1.0  \n",
              "427425 -34.385502                1.0  "
            ],
            "text/html": [
              "\n",
              "\n",
              "  <div id=\"df-a5379150-e1a9-45f0-b1da-30e4ea376744\">\n",
              "    <div class=\"colab-df-container\">\n",
              "      <div>\n",
              "<style scoped>\n",
              "    .dataframe tbody tr th:only-of-type {\n",
              "        vertical-align: middle;\n",
              "    }\n",
              "\n",
              "    .dataframe tbody tr th {\n",
              "        vertical-align: top;\n",
              "    }\n",
              "\n",
              "    .dataframe thead th {\n",
              "        text-align: right;\n",
              "    }\n",
              "</style>\n",
              "<table border=\"1\" class=\"dataframe\">\n",
              "  <thead>\n",
              "    <tr style=\"text-align: right;\">\n",
              "      <th></th>\n",
              "      <th>date</th>\n",
              "      <th>open</th>\n",
              "      <th>high</th>\n",
              "      <th>low</th>\n",
              "      <th>close</th>\n",
              "      <th>volume</th>\n",
              "      <th>macdhist</th>\n",
              "      <th>is_low_decreasing</th>\n",
              "    </tr>\n",
              "  </thead>\n",
              "  <tbody>\n",
              "    <tr>\n",
              "      <th>427421</th>\n",
              "      <td>2021-09-15 02:00:00</td>\n",
              "      <td>47050.73</td>\n",
              "      <td>47109.80</td>\n",
              "      <td>47020.78</td>\n",
              "      <td>47050.38</td>\n",
              "      <td>107.12147</td>\n",
              "      <td>-40.741127</td>\n",
              "      <td>1.0</td>\n",
              "    </tr>\n",
              "    <tr>\n",
              "      <th>427422</th>\n",
              "      <td>2021-09-15 02:05:00</td>\n",
              "      <td>47050.39</td>\n",
              "      <td>47050.39</td>\n",
              "      <td>46974.66</td>\n",
              "      <td>46988.57</td>\n",
              "      <td>122.11424</td>\n",
              "      <td>-43.376384</td>\n",
              "      <td>1.0</td>\n",
              "    </tr>\n",
              "    <tr>\n",
              "      <th>427423</th>\n",
              "      <td>2021-09-15 02:10:00</td>\n",
              "      <td>46988.57</td>\n",
              "      <td>47037.86</td>\n",
              "      <td>46972.58</td>\n",
              "      <td>47022.84</td>\n",
              "      <td>85.12331</td>\n",
              "      <td>-41.162419</td>\n",
              "      <td>1.0</td>\n",
              "    </tr>\n",
              "    <tr>\n",
              "      <th>427424</th>\n",
              "      <td>2021-09-15 02:15:00</td>\n",
              "      <td>47022.84</td>\n",
              "      <td>47037.00</td>\n",
              "      <td>46999.66</td>\n",
              "      <td>47005.95</td>\n",
              "      <td>69.67674</td>\n",
              "      <td>-39.353597</td>\n",
              "      <td>1.0</td>\n",
              "    </tr>\n",
              "    <tr>\n",
              "      <th>427425</th>\n",
              "      <td>2021-09-15 02:20:00</td>\n",
              "      <td>47005.96</td>\n",
              "      <td>47069.01</td>\n",
              "      <td>46999.27</td>\n",
              "      <td>47039.20</td>\n",
              "      <td>65.56174</td>\n",
              "      <td>-34.385502</td>\n",
              "      <td>1.0</td>\n",
              "    </tr>\n",
              "  </tbody>\n",
              "</table>\n",
              "</div>\n",
              "      <button class=\"colab-df-convert\" onclick=\"convertToInteractive('df-a5379150-e1a9-45f0-b1da-30e4ea376744')\"\n",
              "              title=\"Convert this dataframe to an interactive table.\"\n",
              "              style=\"display:none;\">\n",
              "\n",
              "  <svg xmlns=\"http://www.w3.org/2000/svg\" height=\"24px\"viewBox=\"0 0 24 24\"\n",
              "       width=\"24px\">\n",
              "    <path d=\"M0 0h24v24H0V0z\" fill=\"none\"/>\n",
              "    <path d=\"M18.56 5.44l.94 2.06.94-2.06 2.06-.94-2.06-.94-.94-2.06-.94 2.06-2.06.94zm-11 1L8.5 8.5l.94-2.06 2.06-.94-2.06-.94L8.5 2.5l-.94 2.06-2.06.94zm10 10l.94 2.06.94-2.06 2.06-.94-2.06-.94-.94-2.06-.94 2.06-2.06.94z\"/><path d=\"M17.41 7.96l-1.37-1.37c-.4-.4-.92-.59-1.43-.59-.52 0-1.04.2-1.43.59L10.3 9.45l-7.72 7.72c-.78.78-.78 2.05 0 2.83L4 21.41c.39.39.9.59 1.41.59.51 0 1.02-.2 1.41-.59l7.78-7.78 2.81-2.81c.8-.78.8-2.07 0-2.86zM5.41 20L4 18.59l7.72-7.72 1.47 1.35L5.41 20z\"/>\n",
              "  </svg>\n",
              "      </button>\n",
              "\n",
              "\n",
              "\n",
              "    <div id=\"df-1d17bd02-6fa8-47d6-ad41-2f87360d4075\">\n",
              "      <button class=\"colab-df-quickchart\" onclick=\"quickchart('df-1d17bd02-6fa8-47d6-ad41-2f87360d4075')\"\n",
              "              title=\"Suggest charts.\"\n",
              "              style=\"display:none;\">\n",
              "\n",
              "<svg xmlns=\"http://www.w3.org/2000/svg\" height=\"24px\"viewBox=\"0 0 24 24\"\n",
              "     width=\"24px\">\n",
              "    <g>\n",
              "        <path d=\"M19 3H5c-1.1 0-2 .9-2 2v14c0 1.1.9 2 2 2h14c1.1 0 2-.9 2-2V5c0-1.1-.9-2-2-2zM9 17H7v-7h2v7zm4 0h-2V7h2v10zm4 0h-2v-4h2v4z\"/>\n",
              "    </g>\n",
              "</svg>\n",
              "      </button>\n",
              "    </div>\n",
              "\n",
              "<style>\n",
              "  .colab-df-quickchart {\n",
              "    background-color: #E8F0FE;\n",
              "    border: none;\n",
              "    border-radius: 50%;\n",
              "    cursor: pointer;\n",
              "    display: none;\n",
              "    fill: #1967D2;\n",
              "    height: 32px;\n",
              "    padding: 0 0 0 0;\n",
              "    width: 32px;\n",
              "  }\n",
              "\n",
              "  .colab-df-quickchart:hover {\n",
              "    background-color: #E2EBFA;\n",
              "    box-shadow: 0px 1px 2px rgba(60, 64, 67, 0.3), 0px 1px 3px 1px rgba(60, 64, 67, 0.15);\n",
              "    fill: #174EA6;\n",
              "  }\n",
              "\n",
              "  [theme=dark] .colab-df-quickchart {\n",
              "    background-color: #3B4455;\n",
              "    fill: #D2E3FC;\n",
              "  }\n",
              "\n",
              "  [theme=dark] .colab-df-quickchart:hover {\n",
              "    background-color: #434B5C;\n",
              "    box-shadow: 0px 1px 3px 1px rgba(0, 0, 0, 0.15);\n",
              "    filter: drop-shadow(0px 1px 2px rgba(0, 0, 0, 0.3));\n",
              "    fill: #FFFFFF;\n",
              "  }\n",
              "</style>\n",
              "\n",
              "    <script>\n",
              "      async function quickchart(key) {\n",
              "        const containerElement = document.querySelector('#' + key);\n",
              "        const charts = await google.colab.kernel.invokeFunction(\n",
              "            'suggestCharts', [key], {});\n",
              "      }\n",
              "    </script>\n",
              "\n",
              "      <script>\n",
              "\n",
              "function displayQuickchartButton(domScope) {\n",
              "  let quickchartButtonEl =\n",
              "    domScope.querySelector('#df-1d17bd02-6fa8-47d6-ad41-2f87360d4075 button.colab-df-quickchart');\n",
              "  quickchartButtonEl.style.display =\n",
              "    google.colab.kernel.accessAllowed ? 'block' : 'none';\n",
              "}\n",
              "\n",
              "        displayQuickchartButton(document);\n",
              "      </script>\n",
              "      <style>\n",
              "    .colab-df-container {\n",
              "      display:flex;\n",
              "      flex-wrap:wrap;\n",
              "      gap: 12px;\n",
              "    }\n",
              "\n",
              "    .colab-df-convert {\n",
              "      background-color: #E8F0FE;\n",
              "      border: none;\n",
              "      border-radius: 50%;\n",
              "      cursor: pointer;\n",
              "      display: none;\n",
              "      fill: #1967D2;\n",
              "      height: 32px;\n",
              "      padding: 0 0 0 0;\n",
              "      width: 32px;\n",
              "    }\n",
              "\n",
              "    .colab-df-convert:hover {\n",
              "      background-color: #E2EBFA;\n",
              "      box-shadow: 0px 1px 2px rgba(60, 64, 67, 0.3), 0px 1px 3px 1px rgba(60, 64, 67, 0.15);\n",
              "      fill: #174EA6;\n",
              "    }\n",
              "\n",
              "    [theme=dark] .colab-df-convert {\n",
              "      background-color: #3B4455;\n",
              "      fill: #D2E3FC;\n",
              "    }\n",
              "\n",
              "    [theme=dark] .colab-df-convert:hover {\n",
              "      background-color: #434B5C;\n",
              "      box-shadow: 0px 1px 3px 1px rgba(0, 0, 0, 0.15);\n",
              "      filter: drop-shadow(0px 1px 2px rgba(0, 0, 0, 0.3));\n",
              "      fill: #FFFFFF;\n",
              "    }\n",
              "  </style>\n",
              "\n",
              "      <script>\n",
              "        const buttonEl =\n",
              "          document.querySelector('#df-a5379150-e1a9-45f0-b1da-30e4ea376744 button.colab-df-convert');\n",
              "        buttonEl.style.display =\n",
              "          google.colab.kernel.accessAllowed ? 'block' : 'none';\n",
              "\n",
              "        async function convertToInteractive(key) {\n",
              "          const element = document.querySelector('#df-a5379150-e1a9-45f0-b1da-30e4ea376744');\n",
              "          const dataTable =\n",
              "            await google.colab.kernel.invokeFunction('convertToInteractive',\n",
              "                                                     [key], {});\n",
              "          if (!dataTable) return;\n",
              "\n",
              "          const docLinkHtml = 'Like what you see? Visit the ' +\n",
              "            '<a target=\"_blank\" href=https://colab.research.google.com/notebooks/data_table.ipynb>data table notebook</a>'\n",
              "            + ' to learn more about interactive tables.';\n",
              "          element.innerHTML = '';\n",
              "          dataTable['output_type'] = 'display_data';\n",
              "          await google.colab.output.renderOutput(dataTable, element);\n",
              "          const docLink = document.createElement('div');\n",
              "          docLink.innerHTML = docLinkHtml;\n",
              "          element.appendChild(docLink);\n",
              "        }\n",
              "      </script>\n",
              "    </div>\n",
              "  </div>\n"
            ]
          },
          "metadata": {},
          "execution_count": 14
        }
      ]
    },
    {
      "cell_type": "code",
      "source": [
        "import numpy as np\n",
        "\n",
        "\n",
        "dataframe['is_low_decreasing'] = dataframe['high'].rolling(window=count).apply(lambda x: (x[-1] < x[0]) & (x[-1] < max(x[:-1])), raw=True)\n",
        "\n",
        "\n",
        "# Filter the DataFrame where 'is_low_decreasing' is True\n",
        "filtered_df = dataframe[dataframe['is_low_decreasing'] == True]\n",
        "\n",
        "# Print the filtered DataFrame\n",
        "print(filtered_df)"
      ],
      "metadata": {
        "colab": {
          "base_uri": "https://localhost:8080/"
        },
        "id": "-G2OYYFO1pLh",
        "outputId": "1e003dfb-15e8-4170-8045-5f5acd1b075f"
      },
      "execution_count": 15,
      "outputs": [
        {
          "output_type": "stream",
          "name": "stdout",
          "text": [
            "                      date      open      high       low     close     volume  \\\n",
            "45     2017-08-17 07:45:00   4287.41   4287.41   4287.41   4287.41   0.004263   \n",
            "105    2017-08-17 12:45:00   4430.00   4430.00   4411.00   4411.00   0.699498   \n",
            "106    2017-08-17 12:50:00   4420.00   4431.13   4411.00   4411.00   0.147476   \n",
            "107    2017-08-17 12:55:00   4411.00   4411.00   4411.00   4411.00   0.000000   \n",
            "108    2017-08-17 13:00:00   4411.00   4430.00   4411.00   4430.00   0.610006   \n",
            "...                    ...       ...       ...       ...       ...        ...   \n",
            "617211 2023-07-06 05:10:00  30462.37  30462.37  30438.26  30438.27  83.211070   \n",
            "617212 2023-07-06 05:15:00  30438.26  30460.80  30438.26  30458.45  51.660800   \n",
            "617213 2023-07-06 05:20:00  30458.44  30464.11  30458.44  30464.11  24.107720   \n",
            "617214 2023-07-06 05:25:00  30464.10  30480.69  30464.10  30480.69  40.571040   \n",
            "617215 2023-07-06 05:30:00  30480.69  30499.99  30480.68  30499.99  34.391400   \n",
            "\n",
            "        macdhist  is_low_decreasing  \n",
            "45     -6.823297                1.0  \n",
            "105    -7.888858                1.0  \n",
            "106    -7.830508                1.0  \n",
            "107    -7.485420                1.0  \n",
            "108    -5.655363                1.0  \n",
            "...          ...                ...  \n",
            "617211 -7.989066                1.0  \n",
            "617212 -7.043299                1.0  \n",
            "617213 -5.722562                1.0  \n",
            "617214 -3.460551                1.0  \n",
            "617215 -0.499374                1.0  \n",
            "\n",
            "[305594 rows x 8 columns]\n"
          ]
        }
      ]
    },
    {
      "cell_type": "code",
      "source": [
        "# 尋找三個峰值且這些波峰連續升高\n",
        "def find_peak_test(data):\n",
        "        peaks_index = []\n",
        "        wave = []\n",
        "\n",
        "        for i in range(len(data)):\n",
        "            if i == len(data) - 1:\n",
        "                break\n",
        "            d = abs(data[i])\n",
        "            if len(wave) == 0 or d > wave[-1]:\n",
        "                wave.append(d)\n",
        "            else:\n",
        "                if len(wave) > 1:\n",
        "                    peaks_index.append(i-1)\n",
        "                wave = [d]\n",
        "\n",
        "        if len(wave) > 0:\n",
        "            peaks_index.append(i)\n",
        "\n",
        "        highlighted_points = [(index, data[index]) for index in peaks_index]\n",
        "\n",
        "        temp = highlighted_points[-1]\n",
        "\n",
        "\n",
        "        if len(highlighted_points) < 3:\n",
        "            return False, []\n",
        "\n",
        "        highlighted_points = highlighted_points[:-1]\n",
        "\n",
        "        highlighted_points = sorted(\n",
        "            highlighted_points, key=lambda x: abs(x[1]), reverse=True)[:2]\n",
        "        highlighted_points = sorted(\n",
        "            highlighted_points, key=lambda x: x[0], reverse=False)\n",
        "        highlighted_points.append(temp)\n",
        "\n",
        "        if len(highlighted_points) >= 3:\n",
        "            if abs(highlighted_points[-3][1]) > abs(highlighted_points[-2][1]) > abs(highlighted_points[-1][1]):\n",
        "                    return True, highlighted_points\n",
        "\n",
        "        return False, []\n",
        "\n"
      ],
      "metadata": {
        "id": "U0F_2-AU-Awk"
      },
      "execution_count": 39,
      "outputs": []
    },
    {
      "cell_type": "code",
      "source": [
        "# dataframe['is_high_decreasing'] = dataframe['high'].rolling(window=count).apply(lambda x: (x[-1] > x[0]) & (x[-1] > max(x[:-1])), raw=True)\n",
        "# 判斷高點持續提高\n",
        "max_open_close = pd.Series.max(dataframe[['open', 'close']], axis=1)\n",
        "dataframe['is_high_increase'] = max_open_close.rolling(window=count).apply(lambda x: (x[-1] > x[0]) & (x[-1] > max(x[:-1])), raw=True)\n",
        "\n",
        "# 空單條件檢查 零軸以上的 MACD 柱狀體應該大於 windows 的一半\n",
        "def find_peak_sequence_short_wrapper(data):\n",
        "            if data[-1] < 0:\n",
        "                return False, []\n",
        "            if abs(statistics.mean(x for x in data[-3:-1])) > abs(data[-1]):\n",
        "                return False, []\n",
        "            count = sum(1 for value in data if value > 0)\n",
        "            if count < (len(data) / 2):\n",
        "                return False, []\n",
        "            return find_peak_test([n for n in data if n > 0])"
      ],
      "metadata": {
        "id": "P1BAVCzcaHmu"
      },
      "execution_count": 40,
      "outputs": []
    },
    {
      "cell_type": "code",
      "source": [
        "\n",
        "\n",
        "while True:\n",
        "\n",
        "  df = get_random_count_values_dataframe(dataframe)\n",
        "  data = df['macdhist'].values.tolist()\n",
        "\n",
        "\n",
        "\n",
        "  isfind, l = find_peak_sequence_short_wrapper(data)\n",
        "\n",
        "\n",
        "  if isfind:\n",
        "    if df['is_high_increase'].values.tolist()[-1]:\n",
        "      print(data)\n",
        "      print(l)\n",
        "      df.set_index('date', inplace=True)\n",
        "\n",
        "      # 建立一個 MACD histogram 的圖像\n",
        "      ap = mpf.make_addplot(df['macdhist'], panel=1, color='g', secondary_y=False)\n",
        "\n",
        "      # 繪製 K 線圖，並添加 MACD histogram\n",
        "      mpf.plot(df, type='candle', style='charles', title='k bar', addplot=ap)\n",
        "\n",
        "      # 顯示圖表\n",
        "      plt.show()\n",
        "\n",
        "      break"
      ],
      "metadata": {
        "colab": {
          "base_uri": "https://localhost:8080/",
          "height": 609
        },
        "id": "ELM3KUGdUHun",
        "outputId": "82213783-6b3a-4981-acd8-dc5b875b80c8"
      },
      "execution_count": 42,
      "outputs": [
        {
          "output_type": "stream",
          "name": "stdout",
          "text": [
            "[10.93949192398953, 9.218793236374866, 6.9400036513149885, 4.865887885929061, 2.222764982996436, 0.7188033672128977, -0.039218639137017064, 0.6379869612881883, 0.9108643842597957, 1.7095067839048514, 1.671823890469632, 2.096964898453786, 0.7293384327138899, -0.7977256333842195, -1.7593779481204717, -1.6230255769093773, -3.375680240794253, -5.006462418803107, -6.587457696041801, -6.430068580587584, -3.487271975480084, 1.086743782668247, 3.700940124444614, 4.893781644333364, 7.454699192125036, 9.220511719988885, 9.357586379888136, 9.411742941433717, 7.2639784983570745, 5.8315754036160445, 5.331323498495738, 5.387149103550101, 4.20993689764465, 3.4081376315331093, 2.4173177390472924, 1.71922937514878, 1.1717367434176778, 0.8944485534296254, 1.9959880134027452, 4.1056375570048385]\n",
            "[(18, 9.411742941433717), (22, 5.387149103550101), (30, 4.1056375570048385)]\n"
          ]
        },
        {
          "output_type": "display_data",
          "data": {
            "text/plain": [
              "<Figure size 800x575 with 4 Axes>"
            ],
            "image/png": "[encoded data removed]"
          },
          "metadata": {}
        }
      ]
    },
    {
      "cell_type": "code",
      "source": [
        "# dataframe['is_low_decreasing'] = dataframe['low'].rolling(window=count).apply(lambda x: (x[-1] < x[0]) & (x[-1] < max(x[:-1])), raw=True)"
      ],
      "metadata": {
        "id": "pjI5UkMVUM2e"
      },
      "execution_count": 34,
      "outputs": []
    },
    {
      "cell_type": "code",
      "source": [
        "# 判斷低點持續降低\n",
        "min_open_close = pd.Series.min(dataframe[['open', 'close']], axis=1)\n",
        "dataframe['is_low_decreasing'] = min_open_close.rolling(window=count).apply(lambda x: (x[-1] < x[0]) & (x[-1] < min(x[:-1])), raw=True)\n",
        "\n",
        "# 多單條件檢查 零軸以下的 MACD 柱狀體應該大於 windows 的一半\n",
        "def find_peak_sequence_logn_wrapper(data):\n",
        "  if data[-1] > 0:\n",
        "    return False, []\n",
        "  count = sum(1 for value in data if value < 0)\n",
        "  if count < (len(data) / 2):\n",
        "      return False, []\n",
        "  return find_peak_sequence(data)"
      ],
      "metadata": {
        "id": "D88aUR7RZyiy"
      },
      "execution_count": 43,
      "outputs": []
    },
    {
      "cell_type": "code",
      "source": [
        "while True:\n",
        "\n",
        "  df = get_random_count_values_dataframe(dataframe)\n",
        "  data = df['macdhist'].values.tolist()\n",
        "\n",
        "\n",
        "\n",
        "  isfind, l = find_peak_sequence_logn_wrapper(data)\n",
        "\n",
        "\n",
        "  if isfind:\n",
        "\n",
        "    if df['is_low_decreasing'].values.tolist()[-1]:\n",
        "      print(data)\n",
        "      print(l)\n",
        "      df.set_index('date', inplace=True)\n",
        "\n",
        "      # 建立一個 MACD histogram 的圖像\n",
        "      ap = mpf.make_addplot(df['macdhist'], panel=1, color='g', secondary_y=False)\n",
        "\n",
        "      # 繪製 K 線圖，並添加 MACD histogram\n",
        "      mpf.plot(df, type='candle', style='charles', title='k bar', addplot=ap)\n",
        "\n",
        "      # 顯示圖表\n",
        "      plt.show()\n",
        "\n",
        "      break"
      ],
      "metadata": {
        "colab": {
          "base_uri": "https://localhost:8080/",
          "height": 609
        },
        "id": "3qwKXv0UZ3HZ",
        "outputId": "d5b2fa45-42e0-46cc-a858-f18f21942ea4"
      },
      "execution_count": 44,
      "outputs": [
        {
          "output_type": "stream",
          "name": "stdout",
          "text": [
            "[-8.61333897013327, -10.574200567662547, -9.837596463221816, -9.113665988867025, -8.796810093404165, -7.833747275935574, -7.295913093717338, -6.359523917990288, -6.777001519383271, -6.216672766786015, -5.366255935413662, -5.28342331258267, -5.256521825096161, -3.8835501313671923, -1.7676059801286037, 0.16469120783892066, 1.477058499752724, 3.4127737135200693, 4.911592331305725, 5.006231102024376, 4.406887804603073, 4.289892513535836, 5.120027489417307, 5.464309153275892, 5.28495005555136, 4.164408400347847, 2.152474409398936, 0.9168740435724674, -0.2839667278633522, -1.5732125812248405, -1.3979048654322153, -2.007935670348063, -1.7455587550924196, -1.130359552860547, -0.8380827879604853, -0.3843967388642202, -0.9610680662083793, -1.7547222368203128, -2.1804498670353833, -3.269284648766943]\n",
            "[(1, -10.574200567662547), (8, -6.777001519383271), (39, -3.269284648766943)]\n"
          ]
        },
        {
          "output_type": "display_data",
          "data": {
            "text/plain": [
              "<Figure size 800x575 with 4 Axes>"
            ],
            "image/png": "[encoded data removed]"
          },
          "metadata": {}
        }
      ]
    },
    {
      "cell_type": "code",
      "source": [
        "!git status"
      ],
      "metadata": {
        "colab": {
          "base_uri": "https://localhost:8080/"
        },
        "id": "gfImT5pLZ-D5",
        "outputId": "5aa0bb39-74c4-40e0-e5e6-2b86aad8f8a0"
      },
      "execution_count": 46,
      "outputs": [
        {
          "output_type": "stream",
          "name": "stdout",
          "text": [
            "fatal: not a git repository (or any parent up to mount point /content)\n",
            "Stopping at filesystem boundary (GIT_DISCOVERY_ACROSS_FILESYSTEM not set).\n"
          ]
        }
      ]
    },
    {
      "cell_type": "code",
      "source": [
        "!"
      ],
      "metadata": {
        "id": "NlXU3THtd11X"
      },
      "execution_count": null,
      "outputs": []
    }
  ]
}